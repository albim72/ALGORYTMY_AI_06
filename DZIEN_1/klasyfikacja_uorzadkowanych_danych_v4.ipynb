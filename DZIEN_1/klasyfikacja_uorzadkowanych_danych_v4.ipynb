{
 "cells":[
  {
   "cell_type":"code",
   "source":[
    "#warstwy przetwarzania wstępnego odpwiadają mapowaniu kolumn zadeklarowanych w źródłach danych np csv\n",
    "import numpy as np\n",
    "import pandas as pd\n",
    "import tensorflow as tf\n",
    "\n",
    "from tensorflow.keras import layers"
   ],
   "execution_count":10,
   "outputs":[
    
   ],
   "metadata":{
    "datalore":{
     "node_id":"7xGetkKdNibpFUSHZSKBvx",
     "type":"CODE",
     "hide_input_from_viewers":true,
     "hide_output_from_viewers":true
    }
   }
  },
  {
   "cell_type":"code",
   "source":[
    "dataset_url = 'http:\/\/storage.googleapis.com\/download.tensorflow.org\/data\/petfinder-mini.zip'\n",
    "csv_file = 'datasets\/petfinder-mini\/petfinder-mini.csv'\n",
    "\n",
    "tf.keras.utils.get_file('petfinder-mini.zip', dataset_url,extract=True,cache_dir='.')\n",
    "dataframe = pd.read_csv(csv_file)"
   ],
   "execution_count":11,
   "outputs":[
    
   ],
   "metadata":{
    "datalore":{
     "node_id":"PDOu9X4O80KqUkWm2ryqO5",
     "type":"CODE",
     "hide_input_from_viewers":true,
     "hide_output_from_viewers":true
    }
   }
  },
  {
   "cell_type":"code",
   "source":[
    "dataframe.head()"
   ],
   "execution_count":12,
   "outputs":[
    {
     "data":{
      "text\/html":[
       "<div>\n",
       "<style scoped>\n",
       "    .dataframe tbody tr th:only-of-type {\n",
       "        vertical-align: middle;\n",
       "    }\n",
       "\n",
       "    .dataframe tbody tr th {\n",
       "        vertical-align: top;\n",
       "    }\n",
       "\n",
       "    .dataframe thead th {\n",
       "        text-align: right;\n",
       "    }\n",
       "<\/style>\n",
       "<table border=\"1\" class=\"dataframe\">\n",
       "  <thead>\n",
       "    <tr style=\"text-align: right;\">\n",
       "      <th><\/th>\n",
       "      <th>Type<\/th>\n",
       "      <th>Age<\/th>\n",
       "      <th>Breed1<\/th>\n",
       "      <th>Gender<\/th>\n",
       "      <th>Color1<\/th>\n",
       "      <th>Color2<\/th>\n",
       "      <th>MaturitySize<\/th>\n",
       "      <th>FurLength<\/th>\n",
       "      <th>Vaccinated<\/th>\n",
       "      <th>Sterilized<\/th>\n",
       "      <th>Health<\/th>\n",
       "      <th>Fee<\/th>\n",
       "      <th>Description<\/th>\n",
       "      <th>PhotoAmt<\/th>\n",
       "      <th>AdoptionSpeed<\/th>\n",
       "    <\/tr>\n",
       "  <\/thead>\n",
       "  <tbody>\n",
       "    <tr>\n",
       "      <th>0<\/th>\n",
       "      <td>Cat<\/td>\n",
       "      <td>3<\/td>\n",
       "      <td>Tabby<\/td>\n",
       "      <td>Male<\/td>\n",
       "      <td>Black<\/td>\n",
       "      <td>White<\/td>\n",
       "      <td>Small<\/td>\n",
       "      <td>Short<\/td>\n",
       "      <td>No<\/td>\n",
       "      <td>No<\/td>\n",
       "      <td>Healthy<\/td>\n",
       "      <td>100<\/td>\n",
       "      <td>Nibble is a 3+ month old ball of cuteness. He ...<\/td>\n",
       "      <td>1<\/td>\n",
       "      <td>2<\/td>\n",
       "    <\/tr>\n",
       "    <tr>\n",
       "      <th>1<\/th>\n",
       "      <td>Cat<\/td>\n",
       "      <td>1<\/td>\n",
       "      <td>Domestic Medium Hair<\/td>\n",
       "      <td>Male<\/td>\n",
       "      <td>Black<\/td>\n",
       "      <td>Brown<\/td>\n",
       "      <td>Medium<\/td>\n",
       "      <td>Medium<\/td>\n",
       "      <td>Not Sure<\/td>\n",
       "      <td>Not Sure<\/td>\n",
       "      <td>Healthy<\/td>\n",
       "      <td>0<\/td>\n",
       "      <td>I just found it alone yesterday near my apartm...<\/td>\n",
       "      <td>2<\/td>\n",
       "      <td>0<\/td>\n",
       "    <\/tr>\n",
       "    <tr>\n",
       "      <th>2<\/th>\n",
       "      <td>Dog<\/td>\n",
       "      <td>1<\/td>\n",
       "      <td>Mixed Breed<\/td>\n",
       "      <td>Male<\/td>\n",
       "      <td>Brown<\/td>\n",
       "      <td>White<\/td>\n",
       "      <td>Medium<\/td>\n",
       "      <td>Medium<\/td>\n",
       "      <td>Yes<\/td>\n",
       "      <td>No<\/td>\n",
       "      <td>Healthy<\/td>\n",
       "      <td>0<\/td>\n",
       "      <td>Their pregnant mother was dumped by her irresp...<\/td>\n",
       "      <td>7<\/td>\n",
       "      <td>3<\/td>\n",
       "    <\/tr>\n",
       "    <tr>\n",
       "      <th>3<\/th>\n",
       "      <td>Dog<\/td>\n",
       "      <td>4<\/td>\n",
       "      <td>Mixed Breed<\/td>\n",
       "      <td>Female<\/td>\n",
       "      <td>Black<\/td>\n",
       "      <td>Brown<\/td>\n",
       "      <td>Medium<\/td>\n",
       "      <td>Short<\/td>\n",
       "      <td>Yes<\/td>\n",
       "      <td>No<\/td>\n",
       "      <td>Healthy<\/td>\n",
       "      <td>150<\/td>\n",
       "      <td>Good guard dog, very alert, active, obedience ...<\/td>\n",
       "      <td>8<\/td>\n",
       "      <td>2<\/td>\n",
       "    <\/tr>\n",
       "    <tr>\n",
       "      <th>4<\/th>\n",
       "      <td>Dog<\/td>\n",
       "      <td>1<\/td>\n",
       "      <td>Mixed Breed<\/td>\n",
       "      <td>Male<\/td>\n",
       "      <td>Black<\/td>\n",
       "      <td>No Color<\/td>\n",
       "      <td>Medium<\/td>\n",
       "      <td>Short<\/td>\n",
       "      <td>No<\/td>\n",
       "      <td>No<\/td>\n",
       "      <td>Healthy<\/td>\n",
       "      <td>0<\/td>\n",
       "      <td>This handsome yet cute boy is up for adoption....<\/td>\n",
       "      <td>3<\/td>\n",
       "      <td>2<\/td>\n",
       "    <\/tr>\n",
       "  <\/tbody>\n",
       "<\/table>\n",
       "<\/div>"
      ]
     },
     "metadata":{
      
     },
     "output_type":"display_data"
    }
   ],
   "metadata":{
    "datalore":{
     "node_id":"2PiGKFkiujD1Ch4T9oG5Tp",
     "type":"CODE",
     "hide_input_from_viewers":true,
     "hide_output_from_viewers":true
    }
   }
  },
  {
   "cell_type":"code",
   "source":[
    "#Modyfikacja kolumny AdoptionSpeed -> 0 - brak adopcji, 1 - adopcja\n",
    "dataframe['target'] = np.where(dataframe['AdoptionSpeed']==4,0,1)\n",
    "\n",
    "dataframe = dataframe.drop(columns=['AdoptionSpeed','Description'])"
   ],
   "execution_count":13,
   "outputs":[
    
   ],
   "metadata":{
    "datalore":{
     "node_id":"z73CadB194O8JGNoZJvBLP",
     "type":"CODE",
     "hide_input_from_viewers":true,
     "hide_output_from_viewers":true
    }
   }
  },
  {
   "cell_type":"code",
   "source":[
    "dataframe.head()"
   ],
   "execution_count":14,
   "outputs":[
    {
     "data":{
      "text\/html":[
       "<div>\n",
       "<style scoped>\n",
       "    .dataframe tbody tr th:only-of-type {\n",
       "        vertical-align: middle;\n",
       "    }\n",
       "\n",
       "    .dataframe tbody tr th {\n",
       "        vertical-align: top;\n",
       "    }\n",
       "\n",
       "    .dataframe thead th {\n",
       "        text-align: right;\n",
       "    }\n",
       "<\/style>\n",
       "<table border=\"1\" class=\"dataframe\">\n",
       "  <thead>\n",
       "    <tr style=\"text-align: right;\">\n",
       "      <th><\/th>\n",
       "      <th>Type<\/th>\n",
       "      <th>Age<\/th>\n",
       "      <th>Breed1<\/th>\n",
       "      <th>Gender<\/th>\n",
       "      <th>Color1<\/th>\n",
       "      <th>Color2<\/th>\n",
       "      <th>MaturitySize<\/th>\n",
       "      <th>FurLength<\/th>\n",
       "      <th>Vaccinated<\/th>\n",
       "      <th>Sterilized<\/th>\n",
       "      <th>Health<\/th>\n",
       "      <th>Fee<\/th>\n",
       "      <th>PhotoAmt<\/th>\n",
       "      <th>target<\/th>\n",
       "    <\/tr>\n",
       "  <\/thead>\n",
       "  <tbody>\n",
       "    <tr>\n",
       "      <th>0<\/th>\n",
       "      <td>Cat<\/td>\n",
       "      <td>3<\/td>\n",
       "      <td>Tabby<\/td>\n",
       "      <td>Male<\/td>\n",
       "      <td>Black<\/td>\n",
       "      <td>White<\/td>\n",
       "      <td>Small<\/td>\n",
       "      <td>Short<\/td>\n",
       "      <td>No<\/td>\n",
       "      <td>No<\/td>\n",
       "      <td>Healthy<\/td>\n",
       "      <td>100<\/td>\n",
       "      <td>1<\/td>\n",
       "      <td>1<\/td>\n",
       "    <\/tr>\n",
       "    <tr>\n",
       "      <th>1<\/th>\n",
       "      <td>Cat<\/td>\n",
       "      <td>1<\/td>\n",
       "      <td>Domestic Medium Hair<\/td>\n",
       "      <td>Male<\/td>\n",
       "      <td>Black<\/td>\n",
       "      <td>Brown<\/td>\n",
       "      <td>Medium<\/td>\n",
       "      <td>Medium<\/td>\n",
       "      <td>Not Sure<\/td>\n",
       "      <td>Not Sure<\/td>\n",
       "      <td>Healthy<\/td>\n",
       "      <td>0<\/td>\n",
       "      <td>2<\/td>\n",
       "      <td>1<\/td>\n",
       "    <\/tr>\n",
       "    <tr>\n",
       "      <th>2<\/th>\n",
       "      <td>Dog<\/td>\n",
       "      <td>1<\/td>\n",
       "      <td>Mixed Breed<\/td>\n",
       "      <td>Male<\/td>\n",
       "      <td>Brown<\/td>\n",
       "      <td>White<\/td>\n",
       "      <td>Medium<\/td>\n",
       "      <td>Medium<\/td>\n",
       "      <td>Yes<\/td>\n",
       "      <td>No<\/td>\n",
       "      <td>Healthy<\/td>\n",
       "      <td>0<\/td>\n",
       "      <td>7<\/td>\n",
       "      <td>1<\/td>\n",
       "    <\/tr>\n",
       "    <tr>\n",
       "      <th>3<\/th>\n",
       "      <td>Dog<\/td>\n",
       "      <td>4<\/td>\n",
       "      <td>Mixed Breed<\/td>\n",
       "      <td>Female<\/td>\n",
       "      <td>Black<\/td>\n",
       "      <td>Brown<\/td>\n",
       "      <td>Medium<\/td>\n",
       "      <td>Short<\/td>\n",
       "      <td>Yes<\/td>\n",
       "      <td>No<\/td>\n",
       "      <td>Healthy<\/td>\n",
       "      <td>150<\/td>\n",
       "      <td>8<\/td>\n",
       "      <td>1<\/td>\n",
       "    <\/tr>\n",
       "    <tr>\n",
       "      <th>4<\/th>\n",
       "      <td>Dog<\/td>\n",
       "      <td>1<\/td>\n",
       "      <td>Mixed Breed<\/td>\n",
       "      <td>Male<\/td>\n",
       "      <td>Black<\/td>\n",
       "      <td>No Color<\/td>\n",
       "      <td>Medium<\/td>\n",
       "      <td>Short<\/td>\n",
       "      <td>No<\/td>\n",
       "      <td>No<\/td>\n",
       "      <td>Healthy<\/td>\n",
       "      <td>0<\/td>\n",
       "      <td>3<\/td>\n",
       "      <td>1<\/td>\n",
       "    <\/tr>\n",
       "  <\/tbody>\n",
       "<\/table>\n",
       "<\/div>"
      ]
     },
     "metadata":{
      
     },
     "output_type":"display_data"
    }
   ],
   "metadata":{
    "datalore":{
     "node_id":"8wPqMu6GNRFH7j6bi0WtIh",
     "type":"CODE",
     "hide_input_from_viewers":true,
     "hide_output_from_viewers":true
    }
   }
  },
  {
   "cell_type":"code",
   "source":[
    "#podział ramki na zbiory: treningowy, walidacyjny i testowy\n",
    "train,val,test = np.split(dataframe.sample(frac=1),[int(0.8*len(dataframe)),int(0.9*len(dataframe))])"
   ],
   "execution_count":15,
   "outputs":[
    
   ],
   "metadata":{
    "datalore":{
     "node_id":"96bIjfChUp4QsTEc3qjxnd",
     "type":"CODE",
     "hide_input_from_viewers":true,
     "hide_output_from_viewers":true
    }
   }
  },
  {
   "cell_type":"code",
   "source":[
    "print(f'zbiór[ramka] treningowy: {len(train)}')\n",
    "print(f'zbiór[ramka] walidacyjny: {len(val)}')\n",
    "print(f'zbiór[ramka] testowy: {len(test)}')"
   ],
   "execution_count":16,
   "outputs":[
    {
     "name":"stdout",
     "text":[
      "zbiór[ramka] treningowy: 9229\n",
      "zbiór[ramka] walidacyjny: 1154\n",
      "zbiór[ramka] testowy: 1154\n"
     ],
     "output_type":"stream"
    }
   ],
   "metadata":{
    "datalore":{
     "node_id":"YoLnGlVWwXerLANBEymGTK",
     "type":"CODE",
     "hide_input_from_viewers":true,
     "hide_output_from_viewers":true
    }
   }
  },
  {
   "cell_type":"code",
   "source":[
    "#tworzenie potoku wejściowego > utworzenie DataSet\n",
    "def df_to_dataset(dataframe, shuffle=True, batch_size=32):\n",
    "    df = dataframe.copy()\n",
    "    labels = df.pop('target')\n",
    "    df = {key:value[:,tf.newaxis] for key,value in dataframe.items()}\n",
    "    ds = tf.data.Dataset.from_tensor_slices((dict(df),labels))\n",
    "    if shuffle:\n",
    "        ds = ds.shuffle(buffer_size=len(dataframe))\n",
    "    ds = ds.batch(batch_size)\n",
    "    ds = ds.prefetch(batch_size)\n",
    "    return ds"
   ],
   "execution_count":17,
   "outputs":[
    
   ],
   "metadata":{
    "datalore":{
     "node_id":"aN4tP4Z65pn1La7vwkmygf",
     "type":"CODE",
     "hide_input_from_viewers":true,
     "hide_output_from_viewers":true
    }
   }
  },
  {
   "cell_type":"code",
   "source":[
    "batch_size = 5\n",
    "train_ds = df_to_dataset(train,batch_size=batch_size)"
   ],
   "execution_count":18,
   "outputs":[
    {
     "name":"stderr",
     "text":[
      "<ipython-input-17-11b2601cd1f9>:5: FutureWarning: Support for multi-dimensional indexing (e.g. `obj[:, None]`) is deprecated and will be removed in a future version.  Convert to a numpy array before indexing instead.\n",
      "  df = {key:value[:,tf.newaxis] for key,value in dataframe.items()}\n"
     ],
     "output_type":"stream"
    }
   ],
   "metadata":{
    "datalore":{
     "node_id":"6B5bX2teAShLJVsStEUcS1",
     "type":"CODE",
     "hide_input_from_viewers":true,
     "hide_output_from_viewers":true
    }
   }
  },
  {
   "cell_type":"code",
   "source":[
    "[(train_features,label_batch)] = train_ds.take(1)\n",
    "print(f'every features: {list(train_features.keys())}')\n",
    "print(f'a batch of ages: {train_features[\"Age\"]}')\n",
    "print(f'a batch of targets: {label_batch}')"
   ],
   "execution_count":19,
   "outputs":[
    {
     "name":"stdout",
     "text":[
      "every features: ['Type', 'Age', 'Breed1', 'Gender', 'Color1', 'Color2', 'MaturitySize', 'FurLength', 'Vaccinated', 'Sterilized', 'Health', 'Fee', 'PhotoAmt', 'target']\n",
      "a batch of ages: [[ 2]\n",
      " [ 2]\n",
      " [12]\n",
      " [ 2]\n",
      " [ 3]]\n",
      "a batch of targets: [1 1 0 1 1]\n"
     ],
     "output_type":"stream"
    }
   ],
   "metadata":{
    "datalore":{
     "node_id":"dK3srJl6awVVZGX9dJ8lLU",
     "type":"CODE",
     "hide_input_from_viewers":true,
     "hide_output_from_viewers":true
    }
   }
  },
  {
   "cell_type":"code",
   "source":[
    "#zastosowanie warstw przetwarzania wstępnego:\n",
    "#Normalization - normalizacja danych wejściowych\n",
    "#CategoryEncoding - zamienia elmenty kategorialne w liczbach całkowitych na reprezentacje jednoaktywne,wieloaktywne i gęste\n",
    "#StringLookup - zmienia wartości kategorii ciągów na indeksy liczb całkowitych\n",
    "#IntegerLookup  Zmienia całkowite wartości kategoryczne na indeksy całkowite\n",
    "\n",
    "#ujednolicenie dystrybucji danych\n",
    "def get_normalization_layer(name,dataset):\n",
    "    normalizer = layers.Normalization(axis=None)\n",
    "    feature_ds = dataset.map(lambda x,y:x[name])\n",
    "    normalizer.adapt(feature_ds)\n",
    "    return normalizer"
   ],
   "execution_count":21,
   "outputs":[
    
   ],
   "metadata":{
    "datalore":{
     "node_id":"IUKnmaSaQobhk1rEp9RD4j",
     "type":"CODE",
     "hide_input_from_viewers":true,
     "hide_output_from_viewers":true
    }
   }
  },
  {
   "cell_type":"code",
   "source":[
    "photo_count_col = train_features['PhotoAmt']\n",
    "layer = get_normalization_layer('PhotoAmt',train_ds)\n",
    "layer(photo_count_col)"
   ],
   "execution_count":22,
   "outputs":[
    {
     "name":"stdout",
     "text":[
      "WARNING:tensorflow:From \/opt\/python\/envs\/default\/lib\/python3.8\/site-packages\/tensorflow\/python\/autograph\/pyct\/static_analysis\/liveness.py:83: Analyzer.lamba_check (from tensorflow.python.autograph.pyct.static_analysis.liveness) is deprecated and will be removed after 2023-09-23.\n",
      "Instructions for updating:\n",
      "Lambda fuctions will be no more assumed to be used in the statement where they are used, or at least in the same block. https:\/\/github.com\/tensorflow\/tensorflow\/issues\/56089\n"
     ],
     "output_type":"stream"
    },
    {
     "data":{
      "text\/plain":[
       "<tf.Tensor: shape=(5, 1), dtype=float32, numpy=\n",
       "array([[-0.5132344 ],\n",
       "       [ 0.4487811 ],\n",
       "       [-0.19256255],\n",
       "       [ 1.4107965 ],\n",
       "       [ 1.0901247 ]], dtype=float32)>"
      ]
     },
     "metadata":{
      
     },
     "output_type":"display_data"
    }
   ],
   "metadata":{
    "datalore":{
     "node_id":"l7AnjJdBUB7OoCp8ShnXwc",
     "type":"CODE",
     "hide_input_from_viewers":true,
     "hide_output_from_viewers":true
    }
   }
  },
  {
   "cell_type":"code",
   "source":[
    "def get_category_encoding_layer(name,dataset,dtype,max_tokens=None):\n",
    "    if dtype == 'string':\n",
    "        index = layers.StringLookup(max_tokens=max_tokens)\n",
    "    else:\n",
    "        index = layers.IntegerLookup(max_tokens=max_tokens)\n",
    "\n",
    "    feature_ds = dataset.map(lambda x,y:x[name])\n",
    "    index.adapt(feature_ds)\n",
    "\n",
    "    encoder = layers.CategoryEncoding(num_tokens=index.vocabulary_size())\n",
    "    return lambda feature:encoder(index(feature))"
   ],
   "execution_count":23,
   "outputs":[
    
   ],
   "metadata":{
    "datalore":{
     "node_id":"arF3BvYo50sn2yU9yTVFi9",
     "type":"CODE",
     "hide_input_from_viewers":true,
     "hide_output_from_viewers":true
    }
   }
  },
  {
   "cell_type":"code",
   "source":[
    "test_type_col = train_features['Type']\n",
    "test_type_layer = get_category_encoding_layer(name='Type',dataset=train_ds,dtype='string')\n",
    "test_type_layer(test_type_col)"
   ],
   "execution_count":24,
   "outputs":[
    {
     "data":{
      "text\/plain":[
       "<tf.Tensor: shape=(5, 3), dtype=float32, numpy=\n",
       "array([[0., 1., 0.],\n",
       "       [0., 0., 1.],\n",
       "       [0., 0., 1.],\n",
       "       [0., 1., 0.],\n",
       "       [0., 1., 0.]], dtype=float32)>"
      ]
     },
     "metadata":{
      
     },
     "output_type":"display_data"
    }
   ],
   "metadata":{
    "datalore":{
     "node_id":"Du9LjYKftralYMoYkFqoHo",
     "type":"CODE",
     "hide_input_from_viewers":true,
     "hide_output_from_viewers":true
    }
   }
  },
  {
   "cell_type":"code",
   "source":[
    "test_age_col = train_features['Age']\n",
    "test_age_layer = get_category_encoding_layer(name='Age',dataset=train_ds,dtype='int64',max_tokens=5)\n",
    "test_age_layer(test_age_col)"
   ],
   "execution_count":25,
   "outputs":[
    {
     "data":{
      "text\/plain":[
       "<tf.Tensor: shape=(5, 5), dtype=float32, numpy=\n",
       "array([[0., 1., 0., 0., 0.],\n",
       "       [0., 1., 0., 0., 0.],\n",
       "       [1., 0., 0., 0., 0.],\n",
       "       [0., 1., 0., 0., 0.],\n",
       "       [0., 0., 1., 0., 0.]], dtype=float32)>"
      ]
     },
     "metadata":{
      
     },
     "output_type":"display_data"
    }
   ],
   "metadata":{
    "datalore":{
     "node_id":"DoWYr8WXZaHHSBQletRpHS",
     "type":"CODE",
     "hide_input_from_viewers":true,
     "hide_output_from_viewers":true
    }
   }
  },
  {
   "cell_type":"code",
   "source":[
    
   ],
   "execution_count":null,
   "outputs":[
    
   ],
   "metadata":{
    "datalore":{
     "node_id":"SUEGNxTMmjqR1AIR7uB9dG",
     "type":"CODE",
     "hide_input_from_viewers":true,
     "hide_output_from_viewers":true
    }
   }
  }
 ],
 "metadata":{
  "kernelspec":{
   "display_name":"Python",
   "language":"python",
   "name":"python"
  },
  "datalore":{
   "computation_mode":"JUPYTER",
   "package_manager":"pip",
   "base_environment":"default",
   "packages":[
    
   ],
   "report_row_ids":[
    
   ],
   "version":3
  }
 },
 "nbformat":4,
 "nbformat_minor":4
}