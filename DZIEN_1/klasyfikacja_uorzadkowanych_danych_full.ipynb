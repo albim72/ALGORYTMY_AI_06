{
 "cells":[
  {
   "cell_type":"code",
   "source":[
    "#warstwy przetwarzania wstępnego odpwiadają mapowaniu kolumn zadeklarowanych w źródłach danych np csv\n",
    "import numpy as np\n",
    "import pandas as pd\n",
    "import tensorflow as tf\n",
    "\n",
    "from tensorflow.keras import layers"
   ],
   "execution_count":10,
   "outputs":[
    
   ],
   "metadata":{
    "datalore":{
     "node_id":"7xGetkKdNibpFUSHZSKBvx",
     "type":"CODE",
     "hide_input_from_viewers":true,
     "hide_output_from_viewers":true
    }
   }
  },
  {
   "cell_type":"code",
   "source":[
    "dataset_url = 'http:\/\/storage.googleapis.com\/download.tensorflow.org\/data\/petfinder-mini.zip'\n",
    "csv_file = 'datasets\/petfinder-mini\/petfinder-mini.csv'\n",
    "\n",
    "tf.keras.utils.get_file('petfinder-mini.zip', dataset_url,extract=True,cache_dir='.')\n",
    "dataframe = pd.read_csv(csv_file)"
   ],
   "execution_count":11,
   "outputs":[
    
   ],
   "metadata":{
    "datalore":{
     "node_id":"PDOu9X4O80KqUkWm2ryqO5",
     "type":"CODE",
     "hide_input_from_viewers":true,
     "hide_output_from_viewers":true
    }
   }
  },
  {
   "cell_type":"code",
   "source":[
    "dataframe.head()"
   ],
   "execution_count":12,
   "outputs":[
    {
     "data":{
      "text\/html":[
       "<div>\n",
       "<style scoped>\n",
       "    .dataframe tbody tr th:only-of-type {\n",
       "        vertical-align: middle;\n",
       "    }\n",
       "\n",
       "    .dataframe tbody tr th {\n",
       "        vertical-align: top;\n",
       "    }\n",
       "\n",
       "    .dataframe thead th {\n",
       "        text-align: right;\n",
       "    }\n",
       "<\/style>\n",
       "<table border=\"1\" class=\"dataframe\">\n",
       "  <thead>\n",
       "    <tr style=\"text-align: right;\">\n",
       "      <th><\/th>\n",
       "      <th>Type<\/th>\n",
       "      <th>Age<\/th>\n",
       "      <th>Breed1<\/th>\n",
       "      <th>Gender<\/th>\n",
       "      <th>Color1<\/th>\n",
       "      <th>Color2<\/th>\n",
       "      <th>MaturitySize<\/th>\n",
       "      <th>FurLength<\/th>\n",
       "      <th>Vaccinated<\/th>\n",
       "      <th>Sterilized<\/th>\n",
       "      <th>Health<\/th>\n",
       "      <th>Fee<\/th>\n",
       "      <th>Description<\/th>\n",
       "      <th>PhotoAmt<\/th>\n",
       "      <th>AdoptionSpeed<\/th>\n",
       "    <\/tr>\n",
       "  <\/thead>\n",
       "  <tbody>\n",
       "    <tr>\n",
       "      <th>0<\/th>\n",
       "      <td>Cat<\/td>\n",
       "      <td>3<\/td>\n",
       "      <td>Tabby<\/td>\n",
       "      <td>Male<\/td>\n",
       "      <td>Black<\/td>\n",
       "      <td>White<\/td>\n",
       "      <td>Small<\/td>\n",
       "      <td>Short<\/td>\n",
       "      <td>No<\/td>\n",
       "      <td>No<\/td>\n",
       "      <td>Healthy<\/td>\n",
       "      <td>100<\/td>\n",
       "      <td>Nibble is a 3+ month old ball of cuteness. He ...<\/td>\n",
       "      <td>1<\/td>\n",
       "      <td>2<\/td>\n",
       "    <\/tr>\n",
       "    <tr>\n",
       "      <th>1<\/th>\n",
       "      <td>Cat<\/td>\n",
       "      <td>1<\/td>\n",
       "      <td>Domestic Medium Hair<\/td>\n",
       "      <td>Male<\/td>\n",
       "      <td>Black<\/td>\n",
       "      <td>Brown<\/td>\n",
       "      <td>Medium<\/td>\n",
       "      <td>Medium<\/td>\n",
       "      <td>Not Sure<\/td>\n",
       "      <td>Not Sure<\/td>\n",
       "      <td>Healthy<\/td>\n",
       "      <td>0<\/td>\n",
       "      <td>I just found it alone yesterday near my apartm...<\/td>\n",
       "      <td>2<\/td>\n",
       "      <td>0<\/td>\n",
       "    <\/tr>\n",
       "    <tr>\n",
       "      <th>2<\/th>\n",
       "      <td>Dog<\/td>\n",
       "      <td>1<\/td>\n",
       "      <td>Mixed Breed<\/td>\n",
       "      <td>Male<\/td>\n",
       "      <td>Brown<\/td>\n",
       "      <td>White<\/td>\n",
       "      <td>Medium<\/td>\n",
       "      <td>Medium<\/td>\n",
       "      <td>Yes<\/td>\n",
       "      <td>No<\/td>\n",
       "      <td>Healthy<\/td>\n",
       "      <td>0<\/td>\n",
       "      <td>Their pregnant mother was dumped by her irresp...<\/td>\n",
       "      <td>7<\/td>\n",
       "      <td>3<\/td>\n",
       "    <\/tr>\n",
       "    <tr>\n",
       "      <th>3<\/th>\n",
       "      <td>Dog<\/td>\n",
       "      <td>4<\/td>\n",
       "      <td>Mixed Breed<\/td>\n",
       "      <td>Female<\/td>\n",
       "      <td>Black<\/td>\n",
       "      <td>Brown<\/td>\n",
       "      <td>Medium<\/td>\n",
       "      <td>Short<\/td>\n",
       "      <td>Yes<\/td>\n",
       "      <td>No<\/td>\n",
       "      <td>Healthy<\/td>\n",
       "      <td>150<\/td>\n",
       "      <td>Good guard dog, very alert, active, obedience ...<\/td>\n",
       "      <td>8<\/td>\n",
       "      <td>2<\/td>\n",
       "    <\/tr>\n",
       "    <tr>\n",
       "      <th>4<\/th>\n",
       "      <td>Dog<\/td>\n",
       "      <td>1<\/td>\n",
       "      <td>Mixed Breed<\/td>\n",
       "      <td>Male<\/td>\n",
       "      <td>Black<\/td>\n",
       "      <td>No Color<\/td>\n",
       "      <td>Medium<\/td>\n",
       "      <td>Short<\/td>\n",
       "      <td>No<\/td>\n",
       "      <td>No<\/td>\n",
       "      <td>Healthy<\/td>\n",
       "      <td>0<\/td>\n",
       "      <td>This handsome yet cute boy is up for adoption....<\/td>\n",
       "      <td>3<\/td>\n",
       "      <td>2<\/td>\n",
       "    <\/tr>\n",
       "  <\/tbody>\n",
       "<\/table>\n",
       "<\/div>"
      ]
     },
     "metadata":{
      
     },
     "output_type":"display_data"
    }
   ],
   "metadata":{
    "datalore":{
     "node_id":"2PiGKFkiujD1Ch4T9oG5Tp",
     "type":"CODE",
     "hide_input_from_viewers":true,
     "hide_output_from_viewers":true
    }
   }
  },
  {
   "cell_type":"code",
   "source":[
    "#Modyfikacja kolumny AdoptionSpeed -> 0 - brak adopcji, 1 - adopcja\n",
    "dataframe['target'] = np.where(dataframe['AdoptionSpeed']==4,0,1)\n",
    "\n",
    "dataframe = dataframe.drop(columns=['AdoptionSpeed','Description'])"
   ],
   "execution_count":13,
   "outputs":[
    
   ],
   "metadata":{
    "datalore":{
     "node_id":"z73CadB194O8JGNoZJvBLP",
     "type":"CODE",
     "hide_input_from_viewers":true,
     "hide_output_from_viewers":true
    }
   }
  },
  {
   "cell_type":"code",
   "source":[
    "dataframe.head()"
   ],
   "execution_count":14,
   "outputs":[
    {
     "data":{
      "text\/html":[
       "<div>\n",
       "<style scoped>\n",
       "    .dataframe tbody tr th:only-of-type {\n",
       "        vertical-align: middle;\n",
       "    }\n",
       "\n",
       "    .dataframe tbody tr th {\n",
       "        vertical-align: top;\n",
       "    }\n",
       "\n",
       "    .dataframe thead th {\n",
       "        text-align: right;\n",
       "    }\n",
       "<\/style>\n",
       "<table border=\"1\" class=\"dataframe\">\n",
       "  <thead>\n",
       "    <tr style=\"text-align: right;\">\n",
       "      <th><\/th>\n",
       "      <th>Type<\/th>\n",
       "      <th>Age<\/th>\n",
       "      <th>Breed1<\/th>\n",
       "      <th>Gender<\/th>\n",
       "      <th>Color1<\/th>\n",
       "      <th>Color2<\/th>\n",
       "      <th>MaturitySize<\/th>\n",
       "      <th>FurLength<\/th>\n",
       "      <th>Vaccinated<\/th>\n",
       "      <th>Sterilized<\/th>\n",
       "      <th>Health<\/th>\n",
       "      <th>Fee<\/th>\n",
       "      <th>PhotoAmt<\/th>\n",
       "      <th>target<\/th>\n",
       "    <\/tr>\n",
       "  <\/thead>\n",
       "  <tbody>\n",
       "    <tr>\n",
       "      <th>0<\/th>\n",
       "      <td>Cat<\/td>\n",
       "      <td>3<\/td>\n",
       "      <td>Tabby<\/td>\n",
       "      <td>Male<\/td>\n",
       "      <td>Black<\/td>\n",
       "      <td>White<\/td>\n",
       "      <td>Small<\/td>\n",
       "      <td>Short<\/td>\n",
       "      <td>No<\/td>\n",
       "      <td>No<\/td>\n",
       "      <td>Healthy<\/td>\n",
       "      <td>100<\/td>\n",
       "      <td>1<\/td>\n",
       "      <td>1<\/td>\n",
       "    <\/tr>\n",
       "    <tr>\n",
       "      <th>1<\/th>\n",
       "      <td>Cat<\/td>\n",
       "      <td>1<\/td>\n",
       "      <td>Domestic Medium Hair<\/td>\n",
       "      <td>Male<\/td>\n",
       "      <td>Black<\/td>\n",
       "      <td>Brown<\/td>\n",
       "      <td>Medium<\/td>\n",
       "      <td>Medium<\/td>\n",
       "      <td>Not Sure<\/td>\n",
       "      <td>Not Sure<\/td>\n",
       "      <td>Healthy<\/td>\n",
       "      <td>0<\/td>\n",
       "      <td>2<\/td>\n",
       "      <td>1<\/td>\n",
       "    <\/tr>\n",
       "    <tr>\n",
       "      <th>2<\/th>\n",
       "      <td>Dog<\/td>\n",
       "      <td>1<\/td>\n",
       "      <td>Mixed Breed<\/td>\n",
       "      <td>Male<\/td>\n",
       "      <td>Brown<\/td>\n",
       "      <td>White<\/td>\n",
       "      <td>Medium<\/td>\n",
       "      <td>Medium<\/td>\n",
       "      <td>Yes<\/td>\n",
       "      <td>No<\/td>\n",
       "      <td>Healthy<\/td>\n",
       "      <td>0<\/td>\n",
       "      <td>7<\/td>\n",
       "      <td>1<\/td>\n",
       "    <\/tr>\n",
       "    <tr>\n",
       "      <th>3<\/th>\n",
       "      <td>Dog<\/td>\n",
       "      <td>4<\/td>\n",
       "      <td>Mixed Breed<\/td>\n",
       "      <td>Female<\/td>\n",
       "      <td>Black<\/td>\n",
       "      <td>Brown<\/td>\n",
       "      <td>Medium<\/td>\n",
       "      <td>Short<\/td>\n",
       "      <td>Yes<\/td>\n",
       "      <td>No<\/td>\n",
       "      <td>Healthy<\/td>\n",
       "      <td>150<\/td>\n",
       "      <td>8<\/td>\n",
       "      <td>1<\/td>\n",
       "    <\/tr>\n",
       "    <tr>\n",
       "      <th>4<\/th>\n",
       "      <td>Dog<\/td>\n",
       "      <td>1<\/td>\n",
       "      <td>Mixed Breed<\/td>\n",
       "      <td>Male<\/td>\n",
       "      <td>Black<\/td>\n",
       "      <td>No Color<\/td>\n",
       "      <td>Medium<\/td>\n",
       "      <td>Short<\/td>\n",
       "      <td>No<\/td>\n",
       "      <td>No<\/td>\n",
       "      <td>Healthy<\/td>\n",
       "      <td>0<\/td>\n",
       "      <td>3<\/td>\n",
       "      <td>1<\/td>\n",
       "    <\/tr>\n",
       "  <\/tbody>\n",
       "<\/table>\n",
       "<\/div>"
      ]
     },
     "metadata":{
      
     },
     "output_type":"display_data"
    }
   ],
   "metadata":{
    "datalore":{
     "node_id":"8wPqMu6GNRFH7j6bi0WtIh",
     "type":"CODE",
     "hide_input_from_viewers":true,
     "hide_output_from_viewers":true
    }
   }
  },
  {
   "cell_type":"code",
   "source":[
    "#podział ramki na zbiory: treningowy, walidacyjny i testowy\n",
    "train,val,test = np.split(dataframe.sample(frac=1),[int(0.8*len(dataframe)),int(0.9*len(dataframe))])"
   ],
   "execution_count":15,
   "outputs":[
    
   ],
   "metadata":{
    "datalore":{
     "node_id":"96bIjfChUp4QsTEc3qjxnd",
     "type":"CODE",
     "hide_input_from_viewers":true,
     "hide_output_from_viewers":true
    }
   }
  },
  {
   "cell_type":"code",
   "source":[
    "print(f'zbiór[ramka] treningowy: {len(train)}')\n",
    "print(f'zbiór[ramka] walidacyjny: {len(val)}')\n",
    "print(f'zbiór[ramka] testowy: {len(test)}')"
   ],
   "execution_count":16,
   "outputs":[
    {
     "name":"stdout",
     "text":[
      "zbiór[ramka] treningowy: 9229\n",
      "zbiór[ramka] walidacyjny: 1154\n",
      "zbiór[ramka] testowy: 1154\n"
     ],
     "output_type":"stream"
    }
   ],
   "metadata":{
    "datalore":{
     "node_id":"YoLnGlVWwXerLANBEymGTK",
     "type":"CODE",
     "hide_input_from_viewers":true,
     "hide_output_from_viewers":true
    }
   }
  },
  {
   "cell_type":"code",
   "source":[
    "#tworzenie potoku wejściowego > utworzenie DataSet\n",
    "def df_to_dataset(dataframe, shuffle=True, batch_size=32):\n",
    "    df = dataframe.copy()\n",
    "    labels = df.pop('target')\n",
    "    df = {key:value[:,tf.newaxis] for key,value in dataframe.items()}\n",
    "    ds = tf.data.Dataset.from_tensor_slices((dict(df),labels))\n",
    "    if shuffle:\n",
    "        ds = ds.shuffle(buffer_size=len(dataframe))\n",
    "    ds = ds.batch(batch_size)\n",
    "    ds = ds.prefetch(batch_size)\n",
    "    return ds"
   ],
   "execution_count":17,
   "outputs":[
    
   ],
   "metadata":{
    "datalore":{
     "node_id":"aN4tP4Z65pn1La7vwkmygf",
     "type":"CODE",
     "hide_input_from_viewers":true,
     "hide_output_from_viewers":true
    }
   }
  },
  {
   "cell_type":"code",
   "source":[
    "batch_size = 5\n",
    "train_ds = df_to_dataset(train,batch_size=batch_size)"
   ],
   "execution_count":18,
   "outputs":[
    {
     "name":"stderr",
     "text":[
      "<ipython-input-17-11b2601cd1f9>:5: FutureWarning: Support for multi-dimensional indexing (e.g. `obj[:, None]`) is deprecated and will be removed in a future version.  Convert to a numpy array before indexing instead.\n",
      "  df = {key:value[:,tf.newaxis] for key,value in dataframe.items()}\n"
     ],
     "output_type":"stream"
    }
   ],
   "metadata":{
    "datalore":{
     "node_id":"6B5bX2teAShLJVsStEUcS1",
     "type":"CODE",
     "hide_input_from_viewers":true,
     "hide_output_from_viewers":true
    }
   }
  },
  {
   "cell_type":"code",
   "source":[
    "[(train_features,label_batch)] = train_ds.take(1)\n",
    "print(f'every features: {list(train_features.keys())}')\n",
    "print(f'a batch of ages: {train_features[\"Age\"]}')\n",
    "print(f'a batch of targets: {label_batch}')"
   ],
   "execution_count":19,
   "outputs":[
    {
     "name":"stdout",
     "text":[
      "every features: ['Type', 'Age', 'Breed1', 'Gender', 'Color1', 'Color2', 'MaturitySize', 'FurLength', 'Vaccinated', 'Sterilized', 'Health', 'Fee', 'PhotoAmt', 'target']\n",
      "a batch of ages: [[ 2]\n",
      " [ 2]\n",
      " [12]\n",
      " [ 2]\n",
      " [ 3]]\n",
      "a batch of targets: [1 1 0 1 1]\n"
     ],
     "output_type":"stream"
    }
   ],
   "metadata":{
    "datalore":{
     "node_id":"dK3srJl6awVVZGX9dJ8lLU",
     "type":"CODE",
     "hide_input_from_viewers":true,
     "hide_output_from_viewers":true
    }
   }
  },
  {
   "cell_type":"code",
   "source":[
    "#zastosowanie warstw przetwarzania wstępnego:\n",
    "#Normalization - normalizacja danych wejściowych\n",
    "#CategoryEncoding - zamienia elmenty kategorialne w liczbach całkowitych na reprezentacje jednoaktywne,wieloaktywne i gęste\n",
    "#StringLookup - zmienia wartości kategorii ciągów na indeksy liczb całkowitych\n",
    "#IntegerLookup  Zmienia całkowite wartości kategoryczne na indeksy całkowite\n",
    "\n",
    "#ujednolicenie dystrybucji danych\n",
    "def get_normalization_layer(name,dataset):\n",
    "    normalizer = layers.Normalization(axis=None)\n",
    "    feature_ds = dataset.map(lambda x,y:x[name])\n",
    "    normalizer.adapt(feature_ds)\n",
    "    return normalizer"
   ],
   "execution_count":21,
   "outputs":[
    
   ],
   "metadata":{
    "datalore":{
     "node_id":"IUKnmaSaQobhk1rEp9RD4j",
     "type":"CODE",
     "hide_input_from_viewers":true,
     "hide_output_from_viewers":true
    }
   }
  },
  {
   "cell_type":"code",
   "source":[
    "photo_count_col = train_features['PhotoAmt']\n",
    "layer = get_normalization_layer('PhotoAmt',train_ds)\n",
    "layer(photo_count_col)"
   ],
   "execution_count":22,
   "outputs":[
    {
     "name":"stdout",
     "text":[
      "WARNING:tensorflow:From \/opt\/python\/envs\/default\/lib\/python3.8\/site-packages\/tensorflow\/python\/autograph\/pyct\/static_analysis\/liveness.py:83: Analyzer.lamba_check (from tensorflow.python.autograph.pyct.static_analysis.liveness) is deprecated and will be removed after 2023-09-23.\n",
      "Instructions for updating:\n",
      "Lambda fuctions will be no more assumed to be used in the statement where they are used, or at least in the same block. https:\/\/github.com\/tensorflow\/tensorflow\/issues\/56089\n"
     ],
     "output_type":"stream"
    },
    {
     "data":{
      "text\/plain":[
       "<tf.Tensor: shape=(5, 1), dtype=float32, numpy=\n",
       "array([[-0.5132344 ],\n",
       "       [ 0.4487811 ],\n",
       "       [-0.19256255],\n",
       "       [ 1.4107965 ],\n",
       "       [ 1.0901247 ]], dtype=float32)>"
      ]
     },
     "metadata":{
      
     },
     "output_type":"display_data"
    }
   ],
   "metadata":{
    "datalore":{
     "node_id":"l7AnjJdBUB7OoCp8ShnXwc",
     "type":"CODE",
     "hide_input_from_viewers":true,
     "hide_output_from_viewers":true
    }
   }
  },
  {
   "cell_type":"code",
   "source":[
    "def get_category_encoding_layer(name,dataset,dtype,max_tokens=None):\n",
    "    if dtype == 'string':\n",
    "        index = layers.StringLookup(max_tokens=max_tokens)\n",
    "    else:\n",
    "        index = layers.IntegerLookup(max_tokens=max_tokens)\n",
    "\n",
    "    feature_ds = dataset.map(lambda x,y:x[name])\n",
    "    index.adapt(feature_ds)\n",
    "\n",
    "    encoder = layers.CategoryEncoding(num_tokens=index.vocabulary_size())\n",
    "    return lambda feature:encoder(index(feature))"
   ],
   "execution_count":23,
   "outputs":[
    
   ],
   "metadata":{
    "datalore":{
     "node_id":"arF3BvYo50sn2yU9yTVFi9",
     "type":"CODE",
     "hide_input_from_viewers":true,
     "hide_output_from_viewers":true
    }
   }
  },
  {
   "cell_type":"code",
   "source":[
    "test_type_col = train_features['Type']\n",
    "test_type_layer = get_category_encoding_layer(name='Type',dataset=train_ds,dtype='string')\n",
    "test_type_layer(test_type_col)"
   ],
   "execution_count":24,
   "outputs":[
    {
     "data":{
      "text\/plain":[
       "<tf.Tensor: shape=(5, 3), dtype=float32, numpy=\n",
       "array([[0., 1., 0.],\n",
       "       [0., 0., 1.],\n",
       "       [0., 0., 1.],\n",
       "       [0., 1., 0.],\n",
       "       [0., 1., 0.]], dtype=float32)>"
      ]
     },
     "metadata":{
      
     },
     "output_type":"display_data"
    }
   ],
   "metadata":{
    "datalore":{
     "node_id":"Du9LjYKftralYMoYkFqoHo",
     "type":"CODE",
     "hide_input_from_viewers":true,
     "hide_output_from_viewers":true
    }
   }
  },
  {
   "cell_type":"code",
   "source":[
    "test_age_col = train_features['Age']\n",
    "test_age_layer = get_category_encoding_layer(name='Age',dataset=train_ds,dtype='int64',max_tokens=5)\n",
    "test_age_layer(test_age_col)"
   ],
   "execution_count":25,
   "outputs":[
    {
     "data":{
      "text\/plain":[
       "<tf.Tensor: shape=(5, 5), dtype=float32, numpy=\n",
       "array([[0., 1., 0., 0., 0.],\n",
       "       [0., 1., 0., 0., 0.],\n",
       "       [1., 0., 0., 0., 0.],\n",
       "       [0., 1., 0., 0., 0.],\n",
       "       [0., 0., 1., 0., 0.]], dtype=float32)>"
      ]
     },
     "metadata":{
      
     },
     "output_type":"display_data"
    }
   ],
   "metadata":{
    "datalore":{
     "node_id":"DoWYr8WXZaHHSBQletRpHS",
     "type":"CODE",
     "hide_input_from_viewers":true,
     "hide_output_from_viewers":true
    }
   }
  },
  {
   "cell_type":"code",
   "source":[
    "batch_size = 256\n",
    "train_ds = df_to_dataset(train,batch_size=batch_size)\n",
    "val_ds = df_to_dataset(val,shuffle=False,batch_size=batch_size)\n",
    "test_ds = df_to_dataset(test,shuffle=False,batch_size=batch_size)"
   ],
   "execution_count":26,
   "outputs":[
    {
     "name":"stderr",
     "text":[
      "<ipython-input-17-11b2601cd1f9>:5: FutureWarning: Support for multi-dimensional indexing (e.g. `obj[:, None]`) is deprecated and will be removed in a future version.  Convert to a numpy array before indexing instead.\n",
      "  df = {key:value[:,tf.newaxis] for key,value in dataframe.items()}\n",
      "<ipython-input-17-11b2601cd1f9>:5: FutureWarning: Support for multi-dimensional indexing (e.g. `obj[:, None]`) is deprecated and will be removed in a future version.  Convert to a numpy array before indexing instead.\n",
      "  df = {key:value[:,tf.newaxis] for key,value in dataframe.items()}\n",
      "<ipython-input-17-11b2601cd1f9>:5: FutureWarning: Support for multi-dimensional indexing (e.g. `obj[:, None]`) is deprecated and will be removed in a future version.  Convert to a numpy array before indexing instead.\n",
      "  df = {key:value[:,tf.newaxis] for key,value in dataframe.items()}\n"
     ],
     "output_type":"stream"
    }
   ],
   "metadata":{
    "datalore":{
     "node_id":"SUEGNxTMmjqR1AIR7uB9dG",
     "type":"CODE",
     "hide_input_from_viewers":true,
     "hide_output_from_viewers":true
    }
   }
  },
  {
   "cell_type":"code",
   "source":[
    "all_inputs = []\n",
    "encoded_features = []\n",
    "\n",
    "#normalizacja cech liczbowych\n",
    "for header in ['PhotoAmt','Fee']:\n",
    "    numeric_col = tf.keras.Input(shape=(1,), name=header)\n",
    "    normalization_layer = get_normalization_layer(header,train_ds)\n",
    "    encoded_numeric_col = normalization_layer(numeric_col)\n",
    "    all_inputs.append(numeric_col)\n",
    "    encoded_features.append(encoded_numeric_col)"
   ],
   "execution_count":27,
   "outputs":[
    
   ],
   "metadata":{
    "datalore":{
     "node_id":"SDQLPLhB9Oy1L12D3KGqXv",
     "type":"CODE",
     "hide_input_from_viewers":true,
     "hide_output_from_viewers":true
    }
   }
  },
  {
   "cell_type":"code",
   "source":[
    "age_col = tf.keras.Input(shape=(1,),name='Age',dtype='int64')\n",
    "encoding_layer = get_category_encoding_layer(name='Age',\n",
    "                                                          dataset=train_ds,\n",
    "                                                          dtype='int64',\n",
    "                                                          max_tokens=5)\n",
    "encoded_age_col = encoding_layer(age_col)\n",
    "all_inputs.append(age_col)\n",
    "encoded_features.append(encoded_age_col)"
   ],
   "execution_count":28,
   "outputs":[
    
   ],
   "metadata":{
    "datalore":{
     "node_id":"mMW9GZ1lpJBPz9gDydXySn",
     "type":"CODE",
     "hide_input_from_viewers":true,
     "hide_output_from_viewers":true
    }
   }
  },
  {
   "cell_type":"code",
   "source":[
    "categorical_cols = ['Type','Color1','Color2','Gender','MaturitySize','FurLength','Vaccinated','Sterilized','Health','Breed1']\n",
    "for header in categorical_cols:\n",
    "    categorical_col = tf.keras.Input(shape=(1,),name=header,dtype='string')\n",
    "    encoding_layer = get_category_encoding_layer(name=header,\n",
    "                                                dataset=train_ds,\n",
    "                                                dtype='string',\n",
    "                                                max_tokens=5)\n",
    "    encoded_categorical_col = encoding_layer(categorical_col)\n",
    "    all_inputs.append(categorical_col)\n",
    "    encoded_features.append(encoded_categorical_col)"
   ],
   "execution_count":29,
   "outputs":[
    
   ],
   "metadata":{
    "datalore":{
     "node_id":"jMd1UhZcdXP9YP0qrXxsFV",
     "type":"CODE",
     "hide_input_from_viewers":true,
     "hide_output_from_viewers":true
    }
   }
  },
  {
   "cell_type":"code",
   "source":[
    "#stworzenie modelu i kompilacja\n",
    "all_features = tf.keras.layers.concatenate(encoded_features)\n",
    "x = tf.keras.layers.Dense(32,activation='relu')(all_features)\n",
    "x = tf.keras.layers.Dropout(0.5)(x)\n",
    "output = tf.keras.layers.Dense(1)(x)\n",
    "\n",
    "model = tf.keras.Model(all_inputs,output)"
   ],
   "execution_count":30,
   "outputs":[
    
   ],
   "metadata":{
    "datalore":{
     "node_id":"U98y8CSAicGCm2HmdpxmaT",
     "type":"CODE",
     "hide_input_from_viewers":true,
     "hide_output_from_viewers":true
    }
   }
  },
  {
   "cell_type":"code",
   "source":[
    "model.compile(optimizer='adam',\n",
    "              loss=tf.keras.losses.BinaryCrossentropy(from_logits=True),\n",
    "              metrics=['accuracy'])"
   ],
   "execution_count":31,
   "outputs":[
    
   ],
   "metadata":{
    "datalore":{
     "node_id":"Fojc6Y82nRvVbIs9vbOdUd",
     "type":"CODE",
     "hide_input_from_viewers":true,
     "hide_output_from_viewers":true
    }
   }
  },
  {
   "cell_type":"code",
   "source":[
    "model.fit(train_ds,epochs=10,validation_data=val_ds)"
   ],
   "execution_count":32,
   "outputs":[
    {
     "name":"stdout",
     "text":[
      "Epoch 1\/10\n",
      "\r 1\/37 [..............................] - ETA: 1:06 - loss: 0.7439 - accuracy: 0.3438\b\b\b\b\b\b\b\b\b\b\b\b\b\b\b\b\b\b\b\b\b\b\b\b\b\b\b\b\b\b\b\b\b\b\b\b\b\b\b\b\b\b\b\b\b\b\b\b\b\b\b\b\b\b\b\b\b\b\b\b\b\b\b\b\b\b\b\b\b\b\b\b\b\b\b\b\b\b\b\b\b\b\b\b\r21\/37 [================>.............] - ETA: 0s - loss: 0.6822 - accuracy: 0.4671  \b\b\b\b\b\b\b\b\b\b\b\b\b\b\b\b\b\b\b\b\b\b\b\b\b\b\b\b\b\b\b\b\b\b\b\b\b\b\b\b\b\b\b\b\b\b\b\b\b\b\b\b\b\b\b\b\b\b\b\b\b\b\b\b\b\b\b\b\b\b\b\b\b\b\b\b\b\b\b\b\b\b\r37\/37 [==============================] - 3s 21ms\/step - loss: 0.6559 - accuracy: 0.5291 - val_loss: 0.5669 - val_accuracy: 0.7227\n",
      "Epoch 2\/10\n",
      "\r 1\/37 [..............................] - ETA: 3s - loss: 0.5898 - accuracy: 0.6719\b\b\b\b\b\b\b\b\b\b\b\b\b\b\b\b\b\b\b\b\b\b\b\b\b\b\b\b\b\b\b\b\b\b\b\b\b\b\b\b\b\b\b\b\b\b\b\b\b\b\b\b\b\b\b\b\b\b\b\b\b\b\b\b\b\b\b\b\b\b\b\b\b\b\b\b\b\b\b\b\b\b\r17\/37 [============>.................] - ETA: 0s - loss: 0.6064 - accuracy: 0.6482\b\b\b\b\b\b\b\b\b\b\b\b\b\b\b\b\b\b\b\b\b\b\b\b\b\b\b\b\b\b\b\b\b\b\b\b\b\b\b\b\b\b\b\b\b\b\b\b\b\b\b\b\b\b\b\b\b\b\b\b\b\b\b\b\b\b\b\b\b\b\b\b\b\b\b\b\b\b\b\b\b\b\r34\/37 [==========================>...] - ETA: 0s - loss: 0.5939 - accuracy: 0.6590\b\b\b\b\b\b\b\b\b\b\b\b\b\b\b\b\b\b\b\b\b\b\b\b\b\b\b\b\b\b\b\b\b\b\b\b\b\b\b\b\b\b\b\b\b\b\b\b\b\b\b\b\b\b\b\b\b\b\b\b\b\b\b\b\b\b\b\b\b\b\b\b\b\b\b\b\b\b\b\b\b\b\r37\/37 [==============================] - 0s 4ms\/step - loss: 0.5944 - accuracy: 0.6592 - val_loss: 0.5378 - val_accuracy: 0.7504\n",
      "Epoch 3\/10\n",
      "\r 1\/37 [..............................] - ETA: 3s - loss: 0.6213 - accuracy: 0.5977\b\b\b\b\b\b\b\b\b\b\b\b\b\b\b\b\b\b\b\b\b\b\b\b\b\b\b\b\b\b\b\b\b\b\b\b\b\b\b\b\b\b\b\b\b\b\b\b\b\b\b\b\b\b\b\b\b\b\b\b\b\b\b\b\b\b\b\b\b\b\b\b\b\b\b\b\b\b\b\b\b\b\r17\/37 [============>.................] - ETA: 0s - loss: 0.5756 - accuracy: 0.6774\b\b\b\b\b\b\b\b\b\b\b\b\b\b\b\b\b\b\b\b\b\b\b\b\b\b\b\b\b\b\b\b\b\b\b\b\b\b\b\b\b\b\b\b\b\b\b\b\b\b\b\b\b\b\b\b\b\b\b\b\b\b\b\b\b\b\b\b\b\b\b\b\b\b\b\b\b\b\b\b\b\b\r35\/37 [===========================>..] - ETA: 0s - loss: 0.5683 - accuracy: 0.6873\b\b\b\b\b\b\b\b\b\b\b\b\b\b\b\b\b\b\b\b\b\b\b\b\b\b\b\b\b\b\b\b\b\b\b\b\b\b\b\b\b\b\b\b\b\b\b\b\b\b\b\b\b\b\b\b\b\b\b\b\b\b\b\b\b\b\b\b\b\b\b\b\b\b\b\b\b\b\b\b\b\b\r37\/37 [==============================] - 0s 4ms\/step - loss: 0.5699 - accuracy: 0.6869 - val_loss: 0.5236 - val_accuracy: 0.7634\n",
      "Epoch 4\/10\n",
      "\r 1\/37 [..............................] - ETA: 3s - loss: 0.5229 - accuracy: 0.7148\b\b\b\b\b\b\b\b\b\b\b\b\b\b\b\b\b\b\b\b\b\b\b\b\b\b\b\b\b\b\b\b\b\b\b\b\b\b\b\b\b\b\b\b\b\b\b\b\b\b\b\b\b\b\b\b\b\b\b\b\b\b\b\b\b\b\b\b\b\b\b\b\b\b\b\b\b\b\b\b\b\b\r19\/37 [==============>...............] - ETA: 0s - loss: 0.5504 - accuracy: 0.7033\b\b\b\b\b\b\b\b\b\b\b\b\b\b\b\b\b\b\b\b\b\b\b\b\b\b\b\b\b\b\b\b\b\b\b\b\b\b\b\b\b\b\b\b\b\b\b\b\b\b\b\b\b\b\b\b\b\b\b\b\b\b\b\b\b\b\b\b\b\b\b\b\b\b\b\b\b\b\b\b\b\b\r37\/37 [==============================] - ETA: 0s - loss: 0.5541 - accuracy: 0.6981\b\b\b\b\b\b\b\b\b\b\b\b\b\b\b\b\b\b\b\b\b\b\b\b\b\b\b\b\b\b\b\b\b\b\b\b\b\b\b\b\b\b\b\b\b\b\b\b\b\b\b\b\b\b\b\b\b\b\b\b\b\b\b\b\b\b\b\b\b\b\b\b\b\b\b\b\b\b\b\b\b\b\r37\/37 [==============================] - 0s 4ms\/step - loss: 0.5541 - accuracy: 0.6981 - val_loss: 0.5155 - val_accuracy: 0.7582\n",
      "Epoch 5\/10\n",
      "\r 1\/37 [..............................] - ETA: 3s - loss: 0.5438 - accuracy: 0.6953\b\b\b\b\b\b\b\b\b\b\b\b\b\b\b\b\b\b\b\b\b\b\b\b\b\b\b\b\b\b\b\b\b\b\b\b\b\b\b\b\b\b\b\b\b\b\b\b\b\b\b\b\b\b\b\b\b\b\b\b\b\b\b\b\b\b\b\b\b\b\b\b\b\b\b\b\b\b\b\b\b\b\r18\/37 [=============>................] - ETA: 0s - loss: 0.5513 - accuracy: 0.6977\b\b\b\b\b\b\b\b\b\b\b\b\b\b\b\b\b\b\b\b\b\b\b\b\b\b\b\b\b\b\b\b\b\b\b\b\b\b\b\b\b\b\b\b\b\b\b\b\b\b\b\b\b\b\b\b\b\b\b\b\b\b\b\b\b\b\b\b\b\b\b\b\b\b\b\b\b\b\b\b\b\b\r36\/37 [============================>.] - ETA: 0s - loss: 0.5485 - accuracy: 0.7027\b\b\b\b\b\b\b\b\b\b\b\b\b\b\b\b\b\b\b\b\b\b\b\b\b\b\b\b\b\b\b\b\b\b\b\b\b\b\b\b\b\b\b\b\b\b\b\b\b\b\b\b\b\b\b\b\b\b\b\b\b\b\b\b\b\b\b\b\b\b\b\b\b\b\b\b\b\b\b\b\b\b\r37\/37 [==============================] - 0s 4ms\/step - loss: 0.5484 - accuracy: 0.7030 - val_loss: 0.5107 - val_accuracy: 0.7565\n",
      "Epoch 6\/10\n",
      "\r 1\/37 [..............................] - ETA: 3s - loss: 0.5987 - accuracy: 0.6797\b\b\b\b\b\b\b\b\b\b\b\b\b\b\b\b\b\b\b\b\b\b\b\b\b\b\b\b\b\b\b\b\b\b\b\b\b\b\b\b\b\b\b\b\b\b\b\b\b\b\b\b\b\b\b\b\b\b\b\b\b\b\b\b\b\b\b\b\b\b\b\b\b\b\b\b\b\b\b\b\b\b\r17\/37 [============>.................] - ETA: 0s - loss: 0.5421 - accuracy: 0.7169\b\b\b\b\b\b\b\b\b\b\b\b\b\b\b\b\b\b\b\b\b\b\b\b\b\b\b\b\b\b\b\b\b\b\b\b\b\b\b\b\b\b\b\b\b\b\b\b\b\b\b\b\b\b\b\b\b\b\b\b\b\b\b\b\b\b\b\b\b\b\b\b\b\b\b\b\b\b\b\b\b\b\r35\/37 [===========================>..] - ETA: 0s - loss: 0.5414 - accuracy: 0.7198\b\b\b\b\b\b\b\b\b\b\b\b\b\b\b\b\b\b\b\b\b\b\b\b\b\b\b\b\b\b\b\b\b\b\b\b\b\b\b\b\b\b\b\b\b\b\b\b\b\b\b\b\b\b\b\b\b\b\b\b\b\b\b\b\b\b\b\b\b\b\b\b\b\b\b\b\b\b\b\b\b\b\r37\/37 [==============================] - 0s 4ms\/step - loss: 0.5412 - accuracy: 0.7200 - val_loss: 0.5051 - val_accuracy: 0.7556\n",
      "Epoch 7\/10\n",
      "\r 1\/37 [..............................] - ETA: 3s - loss: 0.5738 - accuracy: 0.7148\b\b\b\b\b\b\b\b\b\b\b\b\b\b\b\b\b\b\b\b\b\b\b\b\b\b\b\b\b\b\b\b\b\b\b\b\b\b\b\b\b\b\b\b\b\b\b\b\b\b\b\b\b\b\b\b\b\b\b\b\b\b\b\b\b\b\b\b\b\b\b\b\b\b\b\b\b\b\b\b\b\b\r15\/37 [===========>..................] - ETA: 0s - loss: 0.5426 - accuracy: 0.7102\b\b\b\b\b\b\b\b\b\b\b\b\b\b\b\b\b\b\b\b\b\b\b\b\b\b\b\b\b\b\b\b\b\b\b\b\b\b\b\b\b\b\b\b\b\b\b\b\b\b\b\b\b\b\b\b\b\b\b\b\b\b\b\b\b\b\b\b\b\b\b\b\b\b\b\b\b\b\b\b\b\b\r33\/37 [=========================>....] - ETA: 0s - loss: 0.5386 - accuracy: 0.7139\b\b\b\b\b\b\b\b\b\b\b\b\b\b\b\b\b\b\b\b\b\b\b\b\b\b\b\b\b\b\b\b\b\b\b\b\b\b\b\b\b\b\b\b\b\b\b\b\b\b\b\b\b\b\b\b\b\b\b\b\b\b\b\b\b\b\b\b\b\b\b\b\b\b\b\b\b\b\b\b\b\b\r37\/37 [==============================] - 0s 4ms\/step - loss: 0.5369 - accuracy: 0.7151 - val_loss: 0.5015 - val_accuracy: 0.7522\n",
      "Epoch 8\/10\n",
      "\r 1\/37 [..............................] - ETA: 3s - loss: 0.5835 - accuracy: 0.6836\b\b\b\b\b\b\b\b\b\b\b\b\b\b\b\b\b\b\b\b\b\b\b\b\b\b\b\b\b\b\b\b\b\b\b\b\b\b\b\b\b\b\b\b\b\b\b\b\b\b\b\b\b\b\b\b\b\b\b\b\b\b\b\b\b\b\b\b\b\b\b\b\b\b\b\b\b\b\b\b\b\b\r18\/37 [=============>................] - ETA: 0s - loss: 0.5350 - accuracy: 0.7209\b\b\b\b\b\b\b\b\b\b\b\b\b\b\b\b\b\b\b\b\b\b\b\b\b\b\b\b\b\b\b\b\b\b\b\b\b\b\b\b\b\b\b\b\b\b\b\b\b\b\b\b\b\b\b\b\b\b\b\b\b\b\b\b\b\b\b\b\b\b\b\b\b\b\b\b\b\b\b\b\b\b\r36\/37 [============================>.] - ETA: 0s - loss: 0.5323 - accuracy: 0.7242\b\b\b\b\b\b\b\b\b\b\b\b\b\b\b\b\b\b\b\b\b\b\b\b\b\b\b\b\b\b\b\b\b\b\b\b\b\b\b\b\b\b\b\b\b\b\b\b\b\b\b\b\b\b\b\b\b\b\b\b\b\b\b\b\b\b\b\b\b\b\b\b\b\b\b\b\b\b\b\b\b\b\r37\/37 [==============================] - 0s 4ms\/step - loss: 0.5327 - accuracy: 0.7239 - val_loss: 0.4988 - val_accuracy: 0.7513\n",
      "Epoch 9\/10\n",
      "\r 1\/37 [..............................] - ETA: 3s - loss: 0.4779 - accuracy: 0.7695\b\b\b\b\b\b\b\b\b\b\b\b\b\b\b\b\b\b\b\b\b\b\b\b\b\b\b\b\b\b\b\b\b\b\b\b\b\b\b\b\b\b\b\b\b\b\b\b\b\b\b\b\b\b\b\b\b\b\b\b\b\b\b\b\b\b\b\b\b\b\b\b\b\b\b\b\b\b\b\b\b\b\r18\/37 [=============>................] - ETA: 0s - loss: 0.5316 - accuracy: 0.7250\b\b\b\b\b\b\b\b\b\b\b\b\b\b\b\b\b\b\b\b\b\b\b\b\b\b\b\b\b\b\b\b\b\b\b\b\b\b\b\b\b\b\b\b\b\b\b\b\b\b\b\b\b\b\b\b\b\b\b\b\b\b\b\b\b\b\b\b\b\b\b\b\b\b\b\b\b\b\b\b\b\b\r36\/37 [============================>.] - ETA: 0s - loss: 0.5284 - accuracy: 0.7284\b\b\b\b\b\b\b\b\b\b\b\b\b\b\b\b\b\b\b\b\b\b\b\b\b\b\b\b\b\b\b\b\b\b\b\b\b\b\b\b\b\b\b\b\b\b\b\b\b\b\b\b\b\b\b\b\b\b\b\b\b\b\b\b\b\b\b\b\b\b\b\b\b\b\b\b\b\b\b\b\b\b\r37\/37 [==============================] - 0s 4ms\/step - loss: 0.5284 - accuracy: 0.7281 - val_loss: 0.4965 - val_accuracy: 0.7556\n",
      "Epoch 10\/10\n",
      "\r 1\/37 [..............................] - ETA: 3s - loss: 0.5395 - accuracy: 0.7227\b\b\b\b\b\b\b\b\b\b\b\b\b\b\b\b\b\b\b\b\b\b\b\b\b\b\b\b\b\b\b\b\b\b\b\b\b\b\b\b\b\b\b\b\b\b\b\b\b\b\b\b\b\b\b\b\b\b\b\b\b\b\b\b\b\b\b\b\b\b\b\b\b\b\b\b\b\b\b\b\b\b\r18\/37 [=============>................] - ETA: 0s - loss: 0.5320 - accuracy: 0.7342\b\b\b\b\b\b\b\b\b\b\b\b\b\b\b\b\b\b\b\b\b\b\b\b\b\b\b\b\b\b\b\b\b\b\b\b\b\b\b\b\b\b\b\b\b\b\b\b\b\b\b\b\b\b\b\b\b\b\b\b\b\b\b\b\b\b\b\b\b\b\b\b\b\b\b\b\b\b\b\b\b\b\r35\/37 [===========================>..] - ETA: 0s - loss: 0.5250 - accuracy: 0.7318\b\b\b\b\b\b\b\b\b\b\b\b\b\b\b\b\b\b\b\b\b\b\b\b\b\b\b\b\b\b\b\b\b\b\b\b\b\b\b\b\b\b\b\b\b\b\b\b\b\b\b\b\b\b\b\b\b\b\b\b\b\b\b\b\b\b\b\b\b\b\b\b\b\b\b\b\b\b\b\b\b\b\r37\/37 [==============================] - 0s 4ms\/step - loss: 0.5262 - accuracy: 0.7316 - val_loss: 0.4955 - val_accuracy: 0.7574\n"
     ],
     "output_type":"stream"
    },
    {
     "name":"stderr",
     "text":[
      "\/opt\/python\/envs\/default\/lib\/python3.8\/site-packages\/keras\/engine\/functional.py:638: UserWarning: Input dict contained keys ['target'] which did not match any model input. They will be ignored by the model.\n",
      "  inputs = self._flatten_to_reference_inputs(inputs)\n"
     ],
     "output_type":"stream"
    },
    {
     "data":{
      "text\/plain":[
       "<keras.callbacks.History at 0x7f477a3e2700>"
      ]
     },
     "metadata":{
      
     },
     "output_type":"display_data"
    }
   ],
   "metadata":{
    "datalore":{
     "node_id":"tX5Q2Wm01Chzgc5LYBChC9",
     "type":"CODE",
     "hide_input_from_viewers":true,
     "hide_output_from_viewers":true
    }
   }
  },
  {
   "cell_type":"code",
   "source":[
    "loss,accuracy = model.evaluate(test_ds)\n",
    "print(f'dopasowanie: {accuracy}')"
   ],
   "execution_count":33,
   "outputs":[
    {
     "name":"stdout",
     "text":[
      "\r1\/5 [=====>........................] - ETA: 0s - loss: 0.4898 - accuracy: 0.7461\b\b\b\b\b\b\b\b\b\b\b\b\b\b\b\b\b\b\b\b\b\b\b\b\b\b\b\b\b\b\b\b\b\b\b\b\b\b\b\b\b\b\b\b\b\b\b\b\b\b\b\b\b\b\b\b\b\b\b\b\b\b\b\b\b\b\b\b\b\b\b\b\b\b\b\b\b\b\b\b\r5\/5 [==============================] - 0s 3ms\/step - loss: 0.5116 - accuracy: 0.7461\n",
      "dopasowanie: 0.7461005449295044\n"
     ],
     "output_type":"stream"
    }
   ],
   "metadata":{
    "datalore":{
     "node_id":"60u2vZ3dOuElnsWVelOrES",
     "type":"CODE",
     "hide_input_from_viewers":true,
     "hide_output_from_viewers":true
    }
   }
  }
 ],
 "metadata":{
  "kernelspec":{
   "display_name":"Python",
   "language":"python",
   "name":"python"
  },
  "datalore":{
   "computation_mode":"JUPYTER",
   "package_manager":"pip",
   "base_environment":"default",
   "packages":[
    
   ],
   "report_row_ids":[
    
   ],
   "version":3
  }
 },
 "nbformat":4,
 "nbformat_minor":4
}