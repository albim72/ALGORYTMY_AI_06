{
 "cells":[
  {
   "cell_type":"code",
   "source":[
    "#warstwy przetwarzania wstępnego odpwiadają mapowaniu kolumn zadeklarowanych w źródłach danych np csv\n",
    "import numpy as np\n",
    "import pandas as pd\n",
    "import tensorflow as tf\n",
    "\n",
    "from tensorflow.keras import layers"
   ],
   "execution_count":2,
   "outputs":[
    
   ],
   "metadata":{
    "datalore":{
     "node_id":"7xGetkKdNibpFUSHZSKBvx",
     "type":"CODE",
     "hide_input_from_viewers":true,
     "hide_output_from_viewers":true
    }
   }
  },
  {
   "cell_type":"code",
   "source":[
    "dataset_url = 'http:\/\/storage.googleapis.com\/download.tensorflow.org\/data\/petfinder-mini.zip'\n",
    "csv_file = 'datasets\/petfinder-mini\/petfinder-mini.csv'\n",
    "\n",
    "tf.keras.utils.get_file('petfinder-mini.zip', dataset_url,extract=True,cache_dir='.')\n",
    "dataFrame = pd.read_csv(csv_file)"
   ],
   "execution_count":3,
   "outputs":[
    {
     "name":"stdout",
     "text":[
      "Downloading data from http:\/\/storage.googleapis.com\/download.tensorflow.org\/data\/petfinder-mini.zip\n",
      "\r   8192\/1668792 [..............................] - ETA: 0s\b\b\b\b\b\b\b\b\b\b\b\b\b\b\b\b\b\b\b\b\b\b\b\b\b\b\b\b\b\b\b\b\b\b\b\b\b\b\b\b\b\b\b\b\b\b\b\b\b\b\b\b\b\b\b\b\b\b\r  49152\/1668792 [..............................] - ETA: 4s\b\b\b\b\b\b\b\b\b\b\b\b\b\b\b\b\b\b\b\b\b\b\b\b\b\b\b\b\b\b\b\b\b\b\b\b\b\b\b\b\b\b\b\b\b\b\b\b\b\b\b\b\b\b\b\b\b\b\r  81920\/1668792 [>.............................] - ETA: 4s\b\b\b\b\b\b\b\b\b\b\b\b\b\b\b\b\b\b\b\b\b\b\b\b\b\b\b\b\b\b\b\b\b\b\b\b\b\b\b\b\b\b\b\b\b\b\b\b\b\b\b\b\b\b\b\b\b\b\r 147456\/1668792 [=>............................] - ETA: 2s\b\b\b\b\b\b\b\b\b\b\b\b\b\b\b\b\b\b\b\b\b\b\b\b\b\b\b\b\b\b\b\b\b\b\b\b\b\b\b\b\b\b\b\b\b\b\b\b\b\b\b\b\b\b\b\b\b\b\r 212992\/1668792 [==>...........................] - ETA: 2s\b\b\b\b\b\b\b\b\b\b\b\b\b\b\b\b\b\b\b\b\b\b\b\b\b\b\b\b\b\b\b\b\b\b\b\b\b\b\b\b\b\b\b\b\b\b\b\b\b\b\b\b\b\b\b\b\b\b\r 294912\/1668792 [====>.........................] - ETA: 1s\b\b\b\b\b\b\b\b\b\b\b\b\b\b\b\b\b\b\b\b\b\b\b\b\b\b\b\b\b\b\b\b\b\b\b\b\b\b\b\b\b\b\b\b\b\b\b\b\b\b\b\b\b\b\b\b\b\b\r 409600\/1668792 [======>.......................] - ETA: 1s\b\b\b\b\b\b\b\b\b\b\b\b\b\b\b\b\b\b\b\b\b\b\b\b\b\b\b\b\b\b\b\b\b\b\b\b\b\b\b\b\b\b\b\b\b\b\b\b\b\b\b\b\b\b\b\b\b\b\r 606208\/1668792 [=========>....................] - ETA: 0s\b\b\b\b\b\b\b\b\b\b\b\b\b\b\b\b\b\b\b\b\b\b\b\b\b\b\b\b\b\b\b\b\b\b\b\b\b\b\b\b\b\b\b\b\b\b\b\b\b\b\b\b\b\b\b\b\b\b\r 835584\/1668792 [==============>...............] - ETA: 0s\b\b\b\b\b\b\b\b\b\b\b\b\b\b\b\b\b\b\b\b\b\b\b\b\b\b\b\b\b\b\b\b\b\b\b\b\b\b\b\b\b\b\b\b\b\b\b\b\b\b\b\b\b\b\b\b\b\b\r1212416\/1668792 [====================>.........] - ETA: 0s\b\b\b\b\b\b\b\b\b\b\b\b\b\b\b\b\b\b\b\b\b\b\b\b\b\b\b\b\b\b\b\b\b\b\b\b\b\b\b\b\b\b\b\b\b\b\b\b\b\b\b\b\b\b\b\b\b\b\r1668792\/1668792 [==============================] - 1s 0us\/step\n"
     ],
     "output_type":"stream"
    }
   ],
   "metadata":{
    "datalore":{
     "node_id":"PDOu9X4O80KqUkWm2ryqO5",
     "type":"CODE",
     "hide_input_from_viewers":true,
     "hide_output_from_viewers":true
    }
   }
  },
  {
   "cell_type":"code",
   "source":[
    "dataFrame.head()"
   ],
   "execution_count":4,
   "outputs":[
    {
     "data":{
      "text\/html":[
       "<div>\n",
       "<style scoped>\n",
       "    .dataframe tbody tr th:only-of-type {\n",
       "        vertical-align: middle;\n",
       "    }\n",
       "\n",
       "    .dataframe tbody tr th {\n",
       "        vertical-align: top;\n",
       "    }\n",
       "\n",
       "    .dataframe thead th {\n",
       "        text-align: right;\n",
       "    }\n",
       "<\/style>\n",
       "<table border=\"1\" class=\"dataframe\">\n",
       "  <thead>\n",
       "    <tr style=\"text-align: right;\">\n",
       "      <th><\/th>\n",
       "      <th>Type<\/th>\n",
       "      <th>Age<\/th>\n",
       "      <th>Breed1<\/th>\n",
       "      <th>Gender<\/th>\n",
       "      <th>Color1<\/th>\n",
       "      <th>Color2<\/th>\n",
       "      <th>MaturitySize<\/th>\n",
       "      <th>FurLength<\/th>\n",
       "      <th>Vaccinated<\/th>\n",
       "      <th>Sterilized<\/th>\n",
       "      <th>Health<\/th>\n",
       "      <th>Fee<\/th>\n",
       "      <th>Description<\/th>\n",
       "      <th>PhotoAmt<\/th>\n",
       "      <th>AdoptionSpeed<\/th>\n",
       "    <\/tr>\n",
       "  <\/thead>\n",
       "  <tbody>\n",
       "    <tr>\n",
       "      <th>0<\/th>\n",
       "      <td>Cat<\/td>\n",
       "      <td>3<\/td>\n",
       "      <td>Tabby<\/td>\n",
       "      <td>Male<\/td>\n",
       "      <td>Black<\/td>\n",
       "      <td>White<\/td>\n",
       "      <td>Small<\/td>\n",
       "      <td>Short<\/td>\n",
       "      <td>No<\/td>\n",
       "      <td>No<\/td>\n",
       "      <td>Healthy<\/td>\n",
       "      <td>100<\/td>\n",
       "      <td>Nibble is a 3+ month old ball of cuteness. He ...<\/td>\n",
       "      <td>1<\/td>\n",
       "      <td>2<\/td>\n",
       "    <\/tr>\n",
       "    <tr>\n",
       "      <th>1<\/th>\n",
       "      <td>Cat<\/td>\n",
       "      <td>1<\/td>\n",
       "      <td>Domestic Medium Hair<\/td>\n",
       "      <td>Male<\/td>\n",
       "      <td>Black<\/td>\n",
       "      <td>Brown<\/td>\n",
       "      <td>Medium<\/td>\n",
       "      <td>Medium<\/td>\n",
       "      <td>Not Sure<\/td>\n",
       "      <td>Not Sure<\/td>\n",
       "      <td>Healthy<\/td>\n",
       "      <td>0<\/td>\n",
       "      <td>I just found it alone yesterday near my apartm...<\/td>\n",
       "      <td>2<\/td>\n",
       "      <td>0<\/td>\n",
       "    <\/tr>\n",
       "    <tr>\n",
       "      <th>2<\/th>\n",
       "      <td>Dog<\/td>\n",
       "      <td>1<\/td>\n",
       "      <td>Mixed Breed<\/td>\n",
       "      <td>Male<\/td>\n",
       "      <td>Brown<\/td>\n",
       "      <td>White<\/td>\n",
       "      <td>Medium<\/td>\n",
       "      <td>Medium<\/td>\n",
       "      <td>Yes<\/td>\n",
       "      <td>No<\/td>\n",
       "      <td>Healthy<\/td>\n",
       "      <td>0<\/td>\n",
       "      <td>Their pregnant mother was dumped by her irresp...<\/td>\n",
       "      <td>7<\/td>\n",
       "      <td>3<\/td>\n",
       "    <\/tr>\n",
       "    <tr>\n",
       "      <th>3<\/th>\n",
       "      <td>Dog<\/td>\n",
       "      <td>4<\/td>\n",
       "      <td>Mixed Breed<\/td>\n",
       "      <td>Female<\/td>\n",
       "      <td>Black<\/td>\n",
       "      <td>Brown<\/td>\n",
       "      <td>Medium<\/td>\n",
       "      <td>Short<\/td>\n",
       "      <td>Yes<\/td>\n",
       "      <td>No<\/td>\n",
       "      <td>Healthy<\/td>\n",
       "      <td>150<\/td>\n",
       "      <td>Good guard dog, very alert, active, obedience ...<\/td>\n",
       "      <td>8<\/td>\n",
       "      <td>2<\/td>\n",
       "    <\/tr>\n",
       "    <tr>\n",
       "      <th>4<\/th>\n",
       "      <td>Dog<\/td>\n",
       "      <td>1<\/td>\n",
       "      <td>Mixed Breed<\/td>\n",
       "      <td>Male<\/td>\n",
       "      <td>Black<\/td>\n",
       "      <td>No Color<\/td>\n",
       "      <td>Medium<\/td>\n",
       "      <td>Short<\/td>\n",
       "      <td>No<\/td>\n",
       "      <td>No<\/td>\n",
       "      <td>Healthy<\/td>\n",
       "      <td>0<\/td>\n",
       "      <td>This handsome yet cute boy is up for adoption....<\/td>\n",
       "      <td>3<\/td>\n",
       "      <td>2<\/td>\n",
       "    <\/tr>\n",
       "  <\/tbody>\n",
       "<\/table>\n",
       "<\/div>"
      ]
     },
     "metadata":{
      
     },
     "output_type":"display_data"
    }
   ],
   "metadata":{
    "datalore":{
     "node_id":"2PiGKFkiujD1Ch4T9oG5Tp",
     "type":"CODE",
     "hide_input_from_viewers":true,
     "hide_output_from_viewers":true
    }
   }
  },
  {
   "cell_type":"code",
   "source":[
    "#Modyfikacja kolumny AdoptionSpeed -> 0 - brak adopcji, 1 - adopcja\n",
    "dataFrame['target'] = np.where(dataFrame['AdoptionSpeed']==4,0,1)\n",
    "\n",
    "dataFrame = dataFrame.drop(columns=['AdoptionSpeed','Description'])"
   ],
   "execution_count":5,
   "outputs":[
    
   ],
   "metadata":{
    "datalore":{
     "node_id":"z73CadB194O8JGNoZJvBLP",
     "type":"CODE",
     "hide_input_from_viewers":true,
     "hide_output_from_viewers":true
    }
   }
  },
  {
   "cell_type":"code",
   "source":[
    "dataFrame.head()"
   ],
   "execution_count":6,
   "outputs":[
    {
     "data":{
      "text\/html":[
       "<div>\n",
       "<style scoped>\n",
       "    .dataframe tbody tr th:only-of-type {\n",
       "        vertical-align: middle;\n",
       "    }\n",
       "\n",
       "    .dataframe tbody tr th {\n",
       "        vertical-align: top;\n",
       "    }\n",
       "\n",
       "    .dataframe thead th {\n",
       "        text-align: right;\n",
       "    }\n",
       "<\/style>\n",
       "<table border=\"1\" class=\"dataframe\">\n",
       "  <thead>\n",
       "    <tr style=\"text-align: right;\">\n",
       "      <th><\/th>\n",
       "      <th>Type<\/th>\n",
       "      <th>Age<\/th>\n",
       "      <th>Breed1<\/th>\n",
       "      <th>Gender<\/th>\n",
       "      <th>Color1<\/th>\n",
       "      <th>Color2<\/th>\n",
       "      <th>MaturitySize<\/th>\n",
       "      <th>FurLength<\/th>\n",
       "      <th>Vaccinated<\/th>\n",
       "      <th>Sterilized<\/th>\n",
       "      <th>Health<\/th>\n",
       "      <th>Fee<\/th>\n",
       "      <th>PhotoAmt<\/th>\n",
       "      <th>target<\/th>\n",
       "    <\/tr>\n",
       "  <\/thead>\n",
       "  <tbody>\n",
       "    <tr>\n",
       "      <th>0<\/th>\n",
       "      <td>Cat<\/td>\n",
       "      <td>3<\/td>\n",
       "      <td>Tabby<\/td>\n",
       "      <td>Male<\/td>\n",
       "      <td>Black<\/td>\n",
       "      <td>White<\/td>\n",
       "      <td>Small<\/td>\n",
       "      <td>Short<\/td>\n",
       "      <td>No<\/td>\n",
       "      <td>No<\/td>\n",
       "      <td>Healthy<\/td>\n",
       "      <td>100<\/td>\n",
       "      <td>1<\/td>\n",
       "      <td>1<\/td>\n",
       "    <\/tr>\n",
       "    <tr>\n",
       "      <th>1<\/th>\n",
       "      <td>Cat<\/td>\n",
       "      <td>1<\/td>\n",
       "      <td>Domestic Medium Hair<\/td>\n",
       "      <td>Male<\/td>\n",
       "      <td>Black<\/td>\n",
       "      <td>Brown<\/td>\n",
       "      <td>Medium<\/td>\n",
       "      <td>Medium<\/td>\n",
       "      <td>Not Sure<\/td>\n",
       "      <td>Not Sure<\/td>\n",
       "      <td>Healthy<\/td>\n",
       "      <td>0<\/td>\n",
       "      <td>2<\/td>\n",
       "      <td>1<\/td>\n",
       "    <\/tr>\n",
       "    <tr>\n",
       "      <th>2<\/th>\n",
       "      <td>Dog<\/td>\n",
       "      <td>1<\/td>\n",
       "      <td>Mixed Breed<\/td>\n",
       "      <td>Male<\/td>\n",
       "      <td>Brown<\/td>\n",
       "      <td>White<\/td>\n",
       "      <td>Medium<\/td>\n",
       "      <td>Medium<\/td>\n",
       "      <td>Yes<\/td>\n",
       "      <td>No<\/td>\n",
       "      <td>Healthy<\/td>\n",
       "      <td>0<\/td>\n",
       "      <td>7<\/td>\n",
       "      <td>1<\/td>\n",
       "    <\/tr>\n",
       "    <tr>\n",
       "      <th>3<\/th>\n",
       "      <td>Dog<\/td>\n",
       "      <td>4<\/td>\n",
       "      <td>Mixed Breed<\/td>\n",
       "      <td>Female<\/td>\n",
       "      <td>Black<\/td>\n",
       "      <td>Brown<\/td>\n",
       "      <td>Medium<\/td>\n",
       "      <td>Short<\/td>\n",
       "      <td>Yes<\/td>\n",
       "      <td>No<\/td>\n",
       "      <td>Healthy<\/td>\n",
       "      <td>150<\/td>\n",
       "      <td>8<\/td>\n",
       "      <td>1<\/td>\n",
       "    <\/tr>\n",
       "    <tr>\n",
       "      <th>4<\/th>\n",
       "      <td>Dog<\/td>\n",
       "      <td>1<\/td>\n",
       "      <td>Mixed Breed<\/td>\n",
       "      <td>Male<\/td>\n",
       "      <td>Black<\/td>\n",
       "      <td>No Color<\/td>\n",
       "      <td>Medium<\/td>\n",
       "      <td>Short<\/td>\n",
       "      <td>No<\/td>\n",
       "      <td>No<\/td>\n",
       "      <td>Healthy<\/td>\n",
       "      <td>0<\/td>\n",
       "      <td>3<\/td>\n",
       "      <td>1<\/td>\n",
       "    <\/tr>\n",
       "  <\/tbody>\n",
       "<\/table>\n",
       "<\/div>"
      ]
     },
     "metadata":{
      
     },
     "output_type":"display_data"
    }
   ],
   "metadata":{
    "datalore":{
     "node_id":"8wPqMu6GNRFH7j6bi0WtIh",
     "type":"CODE",
     "hide_input_from_viewers":true,
     "hide_output_from_viewers":true
    }
   }
  },
  {
   "cell_type":"code",
   "source":[
    "#podział ramki na zbiory: treningowy, walidacyjny i testowy\n",
    "train,val,test = np.split(dataFrame.sample(frac=1),[int(0.8*len(dataFrame)),int(0.9*len(dataFrame))])"
   ],
   "execution_count":7,
   "outputs":[
    
   ],
   "metadata":{
    "datalore":{
     "node_id":"96bIjfChUp4QsTEc3qjxnd",
     "type":"CODE",
     "hide_input_from_viewers":true,
     "hide_output_from_viewers":true
    }
   }
  },
  {
   "cell_type":"code",
   "source":[
    "print(f'zbiór treningowy: {len(train)}')\n",
    "print(f'zbiór walidacyjny: {len(val)}')\n",
    "print(f'zbiór testowy: {len(test)}')"
   ],
   "execution_count":8,
   "outputs":[
    {
     "name":"stdout",
     "text":[
      "zbiór treningowy: 9229\n",
      "zbiór walidacyjny: 1154\n",
      "zbiór testowy: 1154\n"
     ],
     "output_type":"stream"
    }
   ],
   "metadata":{
    "datalore":{
     "node_id":"YoLnGlVWwXerLANBEymGTK",
     "type":"CODE",
     "hide_input_from_viewers":true,
     "hide_output_from_viewers":true
    }
   }
  }
 ],
 "metadata":{
  "kernelspec":{
   "display_name":"Python",
   "language":"python",
   "name":"python"
  },
  "datalore":{
   "computation_mode":"JUPYTER",
   "package_manager":"pip",
   "base_environment":"default",
   "packages":[
    
   ],
   "report_row_ids":[
    
   ],
   "version":3
  }
 },
 "nbformat":4,
 "nbformat_minor":4
}