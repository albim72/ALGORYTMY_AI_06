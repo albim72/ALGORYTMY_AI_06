{
  "nbformat": 4,
  "nbformat_minor": 0,
  "metadata": {
    "colab": {
      "provenance": [],
      "authorship_tag": "ABX9TyPvXrDE5/m8kTFg/KKE9FsO",
      "include_colab_link": true
    },
    "kernelspec": {
      "name": "python3",
      "display_name": "Python 3"
    },
    "language_info": {
      "name": "python"
    },
    "widgets": {
      "application/vnd.jupyter.widget-state+json": {
        "b77a1dacc4b94280afd4aac2e34e37c7": {
          "model_module": "@jupyter-widgets/controls",
          "model_name": "HBoxModel",
          "model_module_version": "1.5.0",
          "state": {
            "_dom_classes": [],
            "_model_module": "@jupyter-widgets/controls",
            "_model_module_version": "1.5.0",
            "_model_name": "HBoxModel",
            "_view_count": null,
            "_view_module": "@jupyter-widgets/controls",
            "_view_module_version": "1.5.0",
            "_view_name": "HBoxView",
            "box_style": "",
            "children": [
              "IPY_MODEL_a746a0c286b048fd8e44e1702f4d2f53",
              "IPY_MODEL_c792bd3d69be4d87a8b8f7cd5cf80870",
              "IPY_MODEL_c9edc9a0b11f439f90f88e93d49dee22"
            ],
            "layout": "IPY_MODEL_eab61a3061ae4fdf8473ad3c1575b389"
          }
        },
        "a746a0c286b048fd8e44e1702f4d2f53": {
          "model_module": "@jupyter-widgets/controls",
          "model_name": "HTMLModel",
          "model_module_version": "1.5.0",
          "state": {
            "_dom_classes": [],
            "_model_module": "@jupyter-widgets/controls",
            "_model_module_version": "1.5.0",
            "_model_name": "HTMLModel",
            "_view_count": null,
            "_view_module": "@jupyter-widgets/controls",
            "_view_module_version": "1.5.0",
            "_view_name": "HTMLView",
            "description": "",
            "description_tooltip": null,
            "layout": "IPY_MODEL_4a24804dabfb4678810ff29712691111",
            "placeholder": "​",
            "style": "IPY_MODEL_a8d885ae378f4e15a3e0bc336f0d1350",
            "value": "Dl Completed...: 100%"
          }
        },
        "c792bd3d69be4d87a8b8f7cd5cf80870": {
          "model_module": "@jupyter-widgets/controls",
          "model_name": "FloatProgressModel",
          "model_module_version": "1.5.0",
          "state": {
            "_dom_classes": [],
            "_model_module": "@jupyter-widgets/controls",
            "_model_module_version": "1.5.0",
            "_model_name": "FloatProgressModel",
            "_view_count": null,
            "_view_module": "@jupyter-widgets/controls",
            "_view_module_version": "1.5.0",
            "_view_name": "ProgressView",
            "bar_style": "success",
            "description": "",
            "description_tooltip": null,
            "layout": "IPY_MODEL_b2eff6d557b140d4aaa0e77fd415c7d3",
            "max": 5,
            "min": 0,
            "orientation": "horizontal",
            "style": "IPY_MODEL_7379e51770a84f7f8ae91b573ce54844",
            "value": 5
          }
        },
        "c9edc9a0b11f439f90f88e93d49dee22": {
          "model_module": "@jupyter-widgets/controls",
          "model_name": "HTMLModel",
          "model_module_version": "1.5.0",
          "state": {
            "_dom_classes": [],
            "_model_module": "@jupyter-widgets/controls",
            "_model_module_version": "1.5.0",
            "_model_name": "HTMLModel",
            "_view_count": null,
            "_view_module": "@jupyter-widgets/controls",
            "_view_module_version": "1.5.0",
            "_view_name": "HTMLView",
            "description": "",
            "description_tooltip": null,
            "layout": "IPY_MODEL_6c4bdd65d5a04a36b23f56cc9cc8c491",
            "placeholder": "​",
            "style": "IPY_MODEL_7b9a942d34fc4b84b9287c965ba7440d",
            "value": " 5/5 [00:00&lt;00:00, 10.60 file/s]"
          }
        },
        "eab61a3061ae4fdf8473ad3c1575b389": {
          "model_module": "@jupyter-widgets/base",
          "model_name": "LayoutModel",
          "model_module_version": "1.2.0",
          "state": {
            "_model_module": "@jupyter-widgets/base",
            "_model_module_version": "1.2.0",
            "_model_name": "LayoutModel",
            "_view_count": null,
            "_view_module": "@jupyter-widgets/base",
            "_view_module_version": "1.2.0",
            "_view_name": "LayoutView",
            "align_content": null,
            "align_items": null,
            "align_self": null,
            "border": null,
            "bottom": null,
            "display": null,
            "flex": null,
            "flex_flow": null,
            "grid_area": null,
            "grid_auto_columns": null,
            "grid_auto_flow": null,
            "grid_auto_rows": null,
            "grid_column": null,
            "grid_gap": null,
            "grid_row": null,
            "grid_template_areas": null,
            "grid_template_columns": null,
            "grid_template_rows": null,
            "height": null,
            "justify_content": null,
            "justify_items": null,
            "left": null,
            "margin": null,
            "max_height": null,
            "max_width": null,
            "min_height": null,
            "min_width": null,
            "object_fit": null,
            "object_position": null,
            "order": null,
            "overflow": null,
            "overflow_x": null,
            "overflow_y": null,
            "padding": null,
            "right": null,
            "top": null,
            "visibility": null,
            "width": null
          }
        },
        "4a24804dabfb4678810ff29712691111": {
          "model_module": "@jupyter-widgets/base",
          "model_name": "LayoutModel",
          "model_module_version": "1.2.0",
          "state": {
            "_model_module": "@jupyter-widgets/base",
            "_model_module_version": "1.2.0",
            "_model_name": "LayoutModel",
            "_view_count": null,
            "_view_module": "@jupyter-widgets/base",
            "_view_module_version": "1.2.0",
            "_view_name": "LayoutView",
            "align_content": null,
            "align_items": null,
            "align_self": null,
            "border": null,
            "bottom": null,
            "display": null,
            "flex": null,
            "flex_flow": null,
            "grid_area": null,
            "grid_auto_columns": null,
            "grid_auto_flow": null,
            "grid_auto_rows": null,
            "grid_column": null,
            "grid_gap": null,
            "grid_row": null,
            "grid_template_areas": null,
            "grid_template_columns": null,
            "grid_template_rows": null,
            "height": null,
            "justify_content": null,
            "justify_items": null,
            "left": null,
            "margin": null,
            "max_height": null,
            "max_width": null,
            "min_height": null,
            "min_width": null,
            "object_fit": null,
            "object_position": null,
            "order": null,
            "overflow": null,
            "overflow_x": null,
            "overflow_y": null,
            "padding": null,
            "right": null,
            "top": null,
            "visibility": null,
            "width": null
          }
        },
        "a8d885ae378f4e15a3e0bc336f0d1350": {
          "model_module": "@jupyter-widgets/controls",
          "model_name": "DescriptionStyleModel",
          "model_module_version": "1.5.0",
          "state": {
            "_model_module": "@jupyter-widgets/controls",
            "_model_module_version": "1.5.0",
            "_model_name": "DescriptionStyleModel",
            "_view_count": null,
            "_view_module": "@jupyter-widgets/base",
            "_view_module_version": "1.2.0",
            "_view_name": "StyleView",
            "description_width": ""
          }
        },
        "b2eff6d557b140d4aaa0e77fd415c7d3": {
          "model_module": "@jupyter-widgets/base",
          "model_name": "LayoutModel",
          "model_module_version": "1.2.0",
          "state": {
            "_model_module": "@jupyter-widgets/base",
            "_model_module_version": "1.2.0",
            "_model_name": "LayoutModel",
            "_view_count": null,
            "_view_module": "@jupyter-widgets/base",
            "_view_module_version": "1.2.0",
            "_view_name": "LayoutView",
            "align_content": null,
            "align_items": null,
            "align_self": null,
            "border": null,
            "bottom": null,
            "display": null,
            "flex": null,
            "flex_flow": null,
            "grid_area": null,
            "grid_auto_columns": null,
            "grid_auto_flow": null,
            "grid_auto_rows": null,
            "grid_column": null,
            "grid_gap": null,
            "grid_row": null,
            "grid_template_areas": null,
            "grid_template_columns": null,
            "grid_template_rows": null,
            "height": null,
            "justify_content": null,
            "justify_items": null,
            "left": null,
            "margin": null,
            "max_height": null,
            "max_width": null,
            "min_height": null,
            "min_width": null,
            "object_fit": null,
            "object_position": null,
            "order": null,
            "overflow": null,
            "overflow_x": null,
            "overflow_y": null,
            "padding": null,
            "right": null,
            "top": null,
            "visibility": null,
            "width": null
          }
        },
        "7379e51770a84f7f8ae91b573ce54844": {
          "model_module": "@jupyter-widgets/controls",
          "model_name": "ProgressStyleModel",
          "model_module_version": "1.5.0",
          "state": {
            "_model_module": "@jupyter-widgets/controls",
            "_model_module_version": "1.5.0",
            "_model_name": "ProgressStyleModel",
            "_view_count": null,
            "_view_module": "@jupyter-widgets/base",
            "_view_module_version": "1.2.0",
            "_view_name": "StyleView",
            "bar_color": null,
            "description_width": ""
          }
        },
        "6c4bdd65d5a04a36b23f56cc9cc8c491": {
          "model_module": "@jupyter-widgets/base",
          "model_name": "LayoutModel",
          "model_module_version": "1.2.0",
          "state": {
            "_model_module": "@jupyter-widgets/base",
            "_model_module_version": "1.2.0",
            "_model_name": "LayoutModel",
            "_view_count": null,
            "_view_module": "@jupyter-widgets/base",
            "_view_module_version": "1.2.0",
            "_view_name": "LayoutView",
            "align_content": null,
            "align_items": null,
            "align_self": null,
            "border": null,
            "bottom": null,
            "display": null,
            "flex": null,
            "flex_flow": null,
            "grid_area": null,
            "grid_auto_columns": null,
            "grid_auto_flow": null,
            "grid_auto_rows": null,
            "grid_column": null,
            "grid_gap": null,
            "grid_row": null,
            "grid_template_areas": null,
            "grid_template_columns": null,
            "grid_template_rows": null,
            "height": null,
            "justify_content": null,
            "justify_items": null,
            "left": null,
            "margin": null,
            "max_height": null,
            "max_width": null,
            "min_height": null,
            "min_width": null,
            "object_fit": null,
            "object_position": null,
            "order": null,
            "overflow": null,
            "overflow_x": null,
            "overflow_y": null,
            "padding": null,
            "right": null,
            "top": null,
            "visibility": null,
            "width": null
          }
        },
        "7b9a942d34fc4b84b9287c965ba7440d": {
          "model_module": "@jupyter-widgets/controls",
          "model_name": "DescriptionStyleModel",
          "model_module_version": "1.5.0",
          "state": {
            "_model_module": "@jupyter-widgets/controls",
            "_model_module_version": "1.5.0",
            "_model_name": "DescriptionStyleModel",
            "_view_count": null,
            "_view_module": "@jupyter-widgets/base",
            "_view_module_version": "1.2.0",
            "_view_name": "StyleView",
            "description_width": ""
          }
        }
      }
    }
  },
  "cells": [
    {
      "cell_type": "markdown",
      "metadata": {
        "id": "view-in-github",
        "colab_type": "text"
      },
      "source": [
        "<a href=\"https://colab.research.google.com/github/albim72/ALGORYTMY_AI_06/blob/main/szkolenie_rozproszone_full.ipynb\" target=\"_parent\"><img src=\"https://colab.research.google.com/assets/colab-badge.svg\" alt=\"Open In Colab\"/></a>"
      ]
    },
    {
      "cell_type": "code",
      "execution_count": 1,
      "metadata": {
        "id": "3sqyDDso0aTc"
      },
      "outputs": [],
      "source": [
        "import tensorflow as tf\n",
        "import os\n",
        "\n",
        "import tensorflow_datasets as tfds"
      ]
    },
    {
      "cell_type": "code",
      "source": [
        "datasets, info = tfds.load(name='mnist', with_info=True, as_supervised = True)\n",
        "mnist_train, mnist_test = datasets['train'], datasets['test']"
      ],
      "metadata": {
        "colab": {
          "base_uri": "https://localhost:8080/",
          "height": 84,
          "referenced_widgets": [
            "b77a1dacc4b94280afd4aac2e34e37c7",
            "a746a0c286b048fd8e44e1702f4d2f53",
            "c792bd3d69be4d87a8b8f7cd5cf80870",
            "c9edc9a0b11f439f90f88e93d49dee22",
            "eab61a3061ae4fdf8473ad3c1575b389",
            "4a24804dabfb4678810ff29712691111",
            "a8d885ae378f4e15a3e0bc336f0d1350",
            "b2eff6d557b140d4aaa0e77fd415c7d3",
            "7379e51770a84f7f8ae91b573ce54844",
            "6c4bdd65d5a04a36b23f56cc9cc8c491",
            "7b9a942d34fc4b84b9287c965ba7440d"
          ]
        },
        "id": "DIKNekxr0uQk",
        "outputId": "847a9a99-061e-4b5d-c8c9-68446e6b61a3"
      },
      "execution_count": 2,
      "outputs": [
        {
          "output_type": "stream",
          "name": "stdout",
          "text": [
            "Downloading and preparing dataset 11.06 MiB (download: 11.06 MiB, generated: 21.00 MiB, total: 32.06 MiB) to /root/tensorflow_datasets/mnist/3.0.1...\n"
          ]
        },
        {
          "output_type": "display_data",
          "data": {
            "text/plain": [
              "Dl Completed...:   0%|          | 0/5 [00:00<?, ? file/s]"
            ],
            "application/vnd.jupyter.widget-view+json": {
              "version_major": 2,
              "version_minor": 0,
              "model_id": "b77a1dacc4b94280afd4aac2e34e37c7"
            }
          },
          "metadata": {}
        },
        {
          "output_type": "stream",
          "name": "stdout",
          "text": [
            "Dataset mnist downloaded and prepared to /root/tensorflow_datasets/mnist/3.0.1. Subsequent calls will reuse this data.\n"
          ]
        }
      ]
    },
    {
      "cell_type": "code",
      "source": [
        "#tworzenie strategii dystrybucji\n",
        "strategy = tf.distribute.MirroredStrategy()"
      ],
      "metadata": {
        "colab": {
          "base_uri": "https://localhost:8080/"
        },
        "id": "_kol0drs1XjG",
        "outputId": "2f19e7a0-fd8d-4fd6-82ce-9fa49e84bd36"
      },
      "execution_count": 3,
      "outputs": [
        {
          "output_type": "stream",
          "name": "stderr",
          "text": [
            "WARNING:tensorflow:There are non-GPU devices in `tf.distribute.Strategy`, not using nccl allreduce.\n"
          ]
        }
      ]
    },
    {
      "cell_type": "code",
      "source": [
        "print(f'Liczba platform: {strategy.num_replicas_in_sync}')"
      ],
      "metadata": {
        "colab": {
          "base_uri": "https://localhost:8080/"
        },
        "id": "a-rMJijF1sUN",
        "outputId": "1504f73d-c1b6-4832-98a4-8db1e8494801"
      },
      "execution_count": 4,
      "outputs": [
        {
          "output_type": "stream",
          "name": "stdout",
          "text": [
            "Liczba platform: 1\n"
          ]
        }
      ]
    },
    {
      "cell_type": "code",
      "source": [
        "#konfiguracja potoku wejściowego\n",
        "num_train_examples = info.splits['train'].num_examples\n",
        "num_test_examples = info.splits['test'].num_examples\n",
        "\n",
        "BUFFER_SIZE = 10000\n",
        "BATCH_SIZE_PER_REPLICA = 64\n",
        "BATCH_SIZE = BATCH_SIZE_PER_REPLICA*strategy.num_replicas_in_sync\n"
      ],
      "metadata": {
        "id": "HRBj9cNf146p"
      },
      "execution_count": 5,
      "outputs": []
    },
    {
      "cell_type": "code",
      "source": [
        "#funkcja normalizująca wartości pikseli - zakres [0 .. 255] do zakresu [0..1]\n",
        "def scale(image,label):\n",
        "  image = tf.cast(image,tf.float32)\n",
        "  image /= 255\n",
        "  return image, label"
      ],
      "metadata": {
        "id": "_ZrAGBmk3Rlz"
      },
      "execution_count": 6,
      "outputs": []
    },
    {
      "cell_type": "code",
      "source": [
        "train_dataset = mnist_train.map(scale).cache().shuffle(BUFFER_SIZE).batch(BATCH_SIZE)\n",
        "eval_dataset = mnist_test.map(scale).batch(BATCH_SIZE)"
      ],
      "metadata": {
        "id": "CelIb4dq9ERn"
      },
      "execution_count": 7,
      "outputs": []
    },
    {
      "cell_type": "code",
      "source": [
        "#Stworzenie modelu\n",
        "with strategy.scope():\n",
        "  model = tf.keras.Sequential([\n",
        "      tf.keras.layers.Conv2D(32,3,activation='relu',input_shape=(28,28,1)),\n",
        "      tf.keras.layers.MaxPooling2D(),\n",
        "      tf.keras.layers.Flatten(),\n",
        "      tf.keras.layers.Dense(64,activation='relu'),\n",
        "      tf.keras.layers.Dense(10)\n",
        "  ])\n",
        "\n",
        "  model.compile(loss=tf.keras.losses.SparseCategoricalCrossentropy(from_logits=True),\n",
        "                optimizer=tf.keras.optimizers.Adam(),\n",
        "                metrics = ['accuracy'])"
      ],
      "metadata": {
        "id": "eL5yqyPh9nTj"
      },
      "execution_count": 8,
      "outputs": []
    },
    {
      "cell_type": "code",
      "source": [
        "#definicja wywołań zwrtonych -> callbacks\n",
        "checkpoint_dir = './training_checkpoints'\n",
        "checkpoint_prefix = os.path.join(checkpoint_dir,\"ckpt_{epoch}\")"
      ],
      "metadata": {
        "id": "T80zPDtI_U0a"
      },
      "execution_count": 9,
      "outputs": []
    },
    {
      "cell_type": "code",
      "source": [
        "#definicja funkcji modyfikującj learning rate\n",
        "def decay(epoch):\n",
        "  if epoch < 3:\n",
        "    return 1e-3\n",
        "  elif epoch >= 3 and epoch < 7:\n",
        "    return 1e-4\n",
        "  else:\n",
        "    return 1e-5\n"
      ],
      "metadata": {
        "id": "IDpI7v6PADPu"
      },
      "execution_count": 10,
      "outputs": []
    },
    {
      "cell_type": "code",
      "source": [
        "class PrintLR(tf.keras.callbacks.Callback):\n",
        "  def on_epoch_end(self,epoch,logs=None):\n",
        "    print(f'\\nLearning Rate dla epoki {epoch +1} wynosi {model.optimizer.lr.numpy()}')"
      ],
      "metadata": {
        "id": "QhjbNC5oAuLC"
      },
      "execution_count": 11,
      "outputs": []
    },
    {
      "cell_type": "code",
      "source": [
        "callbacks = [\n",
        "    tf.keras.callbacks.TensorBoard(log_dir='./logs'),\n",
        "    tf.keras.callbacks.ModelCheckpoint(filepath=checkpoint_prefix,save_weights_only=True),\n",
        "    tf.keras.callbacks.LearningRateScheduler(decay),\n",
        "    PrintLR()\n",
        "]"
      ],
      "metadata": {
        "id": "3uy5VDw6BlRV"
      },
      "execution_count": 12,
      "outputs": []
    },
    {
      "cell_type": "code",
      "source": [
        "EPOCHS = 12\n",
        "model.fit(train_dataset, epochs=EPOCHS, callbacks = callbacks)"
      ],
      "metadata": {
        "colab": {
          "base_uri": "https://localhost:8080/"
        },
        "id": "kZRBaAxKCduV",
        "outputId": "01314de1-f443-47b7-c10b-77bdae8b693d"
      },
      "execution_count": 13,
      "outputs": [
        {
          "output_type": "stream",
          "name": "stdout",
          "text": [
            "Epoch 1/12\n",
            "937/938 [============================>.] - ETA: 0s - loss: 0.1993 - accuracy: 0.9413\n",
            "Learning Rate dla epoki 1 wynosi 0.0010000000474974513\n",
            "938/938 [==============================] - 36s 36ms/step - loss: 0.1992 - accuracy: 0.9413 - lr: 0.0010\n",
            "Epoch 2/12\n",
            "937/938 [============================>.] - ETA: 0s - loss: 0.0634 - accuracy: 0.9816\n",
            "Learning Rate dla epoki 2 wynosi 0.0010000000474974513\n",
            "938/938 [==============================] - 32s 34ms/step - loss: 0.0635 - accuracy: 0.9816 - lr: 0.0010\n",
            "Epoch 3/12\n",
            "938/938 [==============================] - ETA: 0s - loss: 0.0445 - accuracy: 0.9869\n",
            "Learning Rate dla epoki 3 wynosi 0.0010000000474974513\n",
            "938/938 [==============================] - 33s 35ms/step - loss: 0.0445 - accuracy: 0.9869 - lr: 0.0010\n",
            "Epoch 4/12\n",
            "937/938 [============================>.] - ETA: 0s - loss: 0.0239 - accuracy: 0.9937\n",
            "Learning Rate dla epoki 4 wynosi 9.999999747378752e-05\n",
            "938/938 [==============================] - 30s 32ms/step - loss: 0.0239 - accuracy: 0.9937 - lr: 1.0000e-04\n",
            "Epoch 5/12\n",
            "937/938 [============================>.] - ETA: 0s - loss: 0.0209 - accuracy: 0.9946\n",
            "Learning Rate dla epoki 5 wynosi 9.999999747378752e-05\n",
            "938/938 [==============================] - 30s 31ms/step - loss: 0.0209 - accuracy: 0.9946 - lr: 1.0000e-04\n",
            "Epoch 6/12\n",
            "936/938 [============================>.] - ETA: 0s - loss: 0.0192 - accuracy: 0.9954\n",
            "Learning Rate dla epoki 6 wynosi 9.999999747378752e-05\n",
            "938/938 [==============================] - 31s 33ms/step - loss: 0.0192 - accuracy: 0.9954 - lr: 1.0000e-04\n",
            "Epoch 7/12\n",
            "937/938 [============================>.] - ETA: 0s - loss: 0.0177 - accuracy: 0.9958\n",
            "Learning Rate dla epoki 7 wynosi 9.999999747378752e-05\n",
            "938/938 [==============================] - 29s 31ms/step - loss: 0.0177 - accuracy: 0.9958 - lr: 1.0000e-04\n",
            "Epoch 8/12\n",
            "937/938 [============================>.] - ETA: 0s - loss: 0.0151 - accuracy: 0.9966\n",
            "Learning Rate dla epoki 8 wynosi 9.999999747378752e-06\n",
            "938/938 [==============================] - 29s 31ms/step - loss: 0.0151 - accuracy: 0.9966 - lr: 1.0000e-05\n",
            "Epoch 9/12\n",
            "937/938 [============================>.] - ETA: 0s - loss: 0.0149 - accuracy: 0.9966\n",
            "Learning Rate dla epoki 9 wynosi 9.999999747378752e-06\n",
            "938/938 [==============================] - 29s 31ms/step - loss: 0.0149 - accuracy: 0.9966 - lr: 1.0000e-05\n",
            "Epoch 10/12\n",
            "937/938 [============================>.] - ETA: 0s - loss: 0.0148 - accuracy: 0.9967\n",
            "Learning Rate dla epoki 10 wynosi 9.999999747378752e-06\n",
            "938/938 [==============================] - 31s 33ms/step - loss: 0.0148 - accuracy: 0.9967 - lr: 1.0000e-05\n",
            "Epoch 11/12\n",
            "937/938 [============================>.] - ETA: 0s - loss: 0.0146 - accuracy: 0.9969\n",
            "Learning Rate dla epoki 11 wynosi 9.999999747378752e-06\n",
            "938/938 [==============================] - 29s 31ms/step - loss: 0.0146 - accuracy: 0.9969 - lr: 1.0000e-05\n",
            "Epoch 12/12\n",
            "937/938 [============================>.] - ETA: 0s - loss: 0.0144 - accuracy: 0.9969\n",
            "Learning Rate dla epoki 12 wynosi 9.999999747378752e-06\n",
            "938/938 [==============================] - 30s 31ms/step - loss: 0.0144 - accuracy: 0.9969 - lr: 1.0000e-05\n"
          ]
        },
        {
          "output_type": "execute_result",
          "data": {
            "text/plain": [
              "<keras.callbacks.History at 0x7f5099ef87c0>"
            ]
          },
          "metadata": {},
          "execution_count": 13
        }
      ]
    },
    {
      "cell_type": "code",
      "source": [
        "ls {checkpoint_dir}"
      ],
      "metadata": {
        "colab": {
          "base_uri": "https://localhost:8080/"
        },
        "id": "qQvpMj0AHcEt",
        "outputId": "7568fdde-c381-46ba-92bd-a716ff5c257c"
      },
      "execution_count": 14,
      "outputs": [
        {
          "output_type": "stream",
          "name": "stdout",
          "text": [
            "checkpoint                   ckpt_4.data-00000-of-00001\n",
            "ckpt_10.data-00000-of-00001  ckpt_4.index\n",
            "ckpt_10.index                ckpt_5.data-00000-of-00001\n",
            "ckpt_11.data-00000-of-00001  ckpt_5.index\n",
            "ckpt_11.index                ckpt_6.data-00000-of-00001\n",
            "ckpt_12.data-00000-of-00001  ckpt_6.index\n",
            "ckpt_12.index                ckpt_7.data-00000-of-00001\n",
            "ckpt_1.data-00000-of-00001   ckpt_7.index\n",
            "ckpt_1.index                 ckpt_8.data-00000-of-00001\n",
            "ckpt_2.data-00000-of-00001   ckpt_8.index\n",
            "ckpt_2.index                 ckpt_9.data-00000-of-00001\n",
            "ckpt_3.data-00000-of-00001   ckpt_9.index\n",
            "ckpt_3.index\n"
          ]
        }
      ]
    },
    {
      "cell_type": "code",
      "source": [
        "model.load_weights(tf.train.latest_checkpoint(checkpoint_dir))\n",
        "eval_loss, eval_acc = model.evaluate(eval_dataset)\n",
        "print(f'Eval loss: {eval_loss}, eval acc: {eval_acc}')"
      ],
      "metadata": {
        "colab": {
          "base_uri": "https://localhost:8080/"
        },
        "id": "AF1oRCfiHyEf",
        "outputId": "9da9ea01-6ff7-4844-a100-075f9a715e7c"
      },
      "execution_count": 15,
      "outputs": [
        {
          "output_type": "stream",
          "name": "stdout",
          "text": [
            "157/157 [==============================] - 4s 18ms/step - loss: 0.0375 - accuracy: 0.9865\n",
            "Eval loss: 0.03753258287906647, eval acc: 0.9865000247955322\n"
          ]
        }
      ]
    },
    {
      "cell_type": "code",
      "source": [
        "#eksportowanie do zapisanego modelu\n",
        "path = 'saved_model/'"
      ],
      "metadata": {
        "id": "r2Kk-R_tIysz"
      },
      "execution_count": 16,
      "outputs": []
    },
    {
      "cell_type": "code",
      "source": [
        "model.save(path,save_format='tf')"
      ],
      "metadata": {
        "colab": {
          "base_uri": "https://localhost:8080/"
        },
        "id": "MYli0W5JI62E",
        "outputId": "48d8c629-3d24-4925-fe1d-6b5b17e13998"
      },
      "execution_count": 17,
      "outputs": [
        {
          "output_type": "stream",
          "name": "stderr",
          "text": [
            "WARNING:absl:Found untraced functions such as _jit_compiled_convolution_op, _update_step_xla while saving (showing 2 of 2). These functions will not be directly callable after loading.\n"
          ]
        }
      ]
    },
    {
      "cell_type": "code",
      "source": [
        "unreplicated_model = tf.keras.models.load_model(path)\n",
        "\n",
        "unreplicated_model.compile(\n",
        "    loss = tf.keras.losses.SparseCategoricalCrossentropy(from_logits=True),\n",
        "    optimizer = tf.keras.optimizers.Adam(),\n",
        "    metrics=['accuracy']\n",
        ")\n",
        "\n",
        "eval_loss, eval_acc = unreplicated_model.evaluate(eval_dataset)\n",
        "print(f'Eval loss: {eval_loss}, eval acc: {eval_acc}')"
      ],
      "metadata": {
        "colab": {
          "base_uri": "https://localhost:8080/"
        },
        "id": "UJ5x3smiJJZZ",
        "outputId": "5a9ec69e-9e02-4211-8f7b-620aaaa75975"
      },
      "execution_count": 18,
      "outputs": [
        {
          "output_type": "stream",
          "name": "stdout",
          "text": [
            "157/157 [==============================] - 2s 11ms/step - loss: 0.0375 - accuracy: 0.9865\n",
            "Eval loss: 0.03753258287906647, eval acc: 0.9865000247955322\n"
          ]
        }
      ]
    },
    {
      "cell_type": "code",
      "source": [
        "with strategy.scope():\n",
        "  replicated_model = tf.keras.models.load_model(path)\n",
        "  replicated_model.compile(\n",
        "      loss = tf.keras.losses.SparseCategoricalCrossentropy(from_logits=True),\n",
        "    optimizer = tf.keras.optimizers.Adam(),\n",
        "    metrics=['accuracy']\n",
        "  )\n",
        "  eval_loss, eval_acc = unreplicated_model.evaluate(eval_dataset)\n",
        "  print(f'Eval loss: {eval_loss}, eval acc: {eval_acc}')"
      ],
      "metadata": {
        "colab": {
          "base_uri": "https://localhost:8080/"
        },
        "id": "04QVMSEwKEWZ",
        "outputId": "aa16963d-f51b-44a7-90f3-f0502c261cec"
      },
      "execution_count": 20,
      "outputs": [
        {
          "output_type": "stream",
          "name": "stdout",
          "text": [
            "157/157 [==============================] - 2s 11ms/step - loss: 0.0375 - accuracy: 0.9865\n",
            "Eval loss: 0.03753258287906647, eval acc: 0.9865000247955322\n"
          ]
        }
      ]
    }
  ]
}