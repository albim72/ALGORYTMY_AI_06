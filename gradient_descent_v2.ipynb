{
  "nbformat": 4,
  "nbformat_minor": 0,
  "metadata": {
    "colab": {
      "provenance": [],
      "authorship_tag": "ABX9TyP/VWzGTpk03k+Y6g3rddAr",
      "include_colab_link": true
    },
    "kernelspec": {
      "name": "python3",
      "display_name": "Python 3"
    },
    "language_info": {
      "name": "python"
    }
  },
  "cells": [
    {
      "cell_type": "markdown",
      "metadata": {
        "id": "view-in-github",
        "colab_type": "text"
      },
      "source": [
        "<a href=\"https://colab.research.google.com/github/albim72/ALGORYTMY_AI_06/blob/main/gradient_descent_v2.ipynb\" target=\"_parent\"><img src=\"https://colab.research.google.com/assets/colab-badge.svg\" alt=\"Open In Colab\"/></a>"
      ]
    },
    {
      "cell_type": "code",
      "execution_count": 1,
      "metadata": {
        "id": "u5Fw2dxsZ3SU"
      },
      "outputs": [],
      "source": [
        "import numpy as np\n",
        "import matplotlib.pyplot as plt\n",
        "from mpl_toolkits.mplot3d import Axes3D"
      ]
    },
    {
      "cell_type": "code",
      "source": [
        "#definiujemy funkcję do zminimalizowania\n",
        "def f(x,y):\n",
        "  return x**2+y**2\n",
        "\n",
        "#definiujejmy różniczkę funkcji f(x,y) -> po x\n",
        "def df_dx(x,y):\n",
        "  return 2*x\n",
        "\n",
        "#definiujejmy różniczkę funkcji f(x,y) -> po y\n",
        "def df_dy(x,y):\n",
        "  return 2*y"
      ],
      "metadata": {
        "id": "3s7BjvOQcYHQ"
      },
      "execution_count": 2,
      "outputs": []
    },
    {
      "cell_type": "code",
      "source": [
        "#definicja spadku gradientu\n",
        "def gradient_descent(start_x,start_y,learning_rate,num_iterations):\n",
        "  x = start_x\n",
        "  y = start_y\n",
        "\n",
        "  history = []\n",
        "  for i in range(num_iterations):\n",
        "    grad_x = df_dx(x,y)\n",
        "    grad_y = df_dy(x,y)\n",
        "\n",
        "    x = x - learning_rate*grad_x\n",
        "    y = y - learning_rate*grad_y\n",
        "\n",
        "    history.append((x,y,f(x,y)))\n",
        "  return x,y,f(x,y),history\n",
        ""
      ],
      "metadata": {
        "id": "-i_nV6XEc_3B"
      },
      "execution_count": 3,
      "outputs": []
    }
  ]
}