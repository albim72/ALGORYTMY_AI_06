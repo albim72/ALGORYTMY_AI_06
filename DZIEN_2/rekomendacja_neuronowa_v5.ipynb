{
 "cells":[
  {
   "cell_type":"code",
   "source":[
    "import json\n",
    "from collections import Counter\n",
    "from keras.models import Model\n",
    "from keras.layers import Embedding, Input, Reshape\n",
    "from keras.layers.merging import Dot\n",
    "from sklearn.linear_model import LinearRegression\n",
    "import numpy as np\n",
    "import random\n",
    "from sklearn import svm"
   ],
   "execution_count":1,
   "outputs":[
    
   ],
   "metadata":{
    "datalore":{
     "node_id":"RhF5kOQguOpJnMl75ldk6r",
     "type":"CODE",
     "hide_input_from_viewers":true,
     "hide_output_from_viewers":true
    }
   }
  },
  {
   "cell_type":"code",
   "source":[
    "with open('data\/wp_movies_10k.ndjson') as fin:\n",
    "    movies = [json.loads(l) for l in fin]"
   ],
   "execution_count":2,
   "outputs":[
    
   ],
   "metadata":{
    "datalore":{
     "node_id":"oFO1TRFSk8CrIL2p6wIw1F",
     "type":"CODE",
     "hide_input_from_viewers":true,
     "hide_output_from_viewers":true
    }
   }
  },
  {
   "cell_type":"code",
   "source":[
    "link_counts = Counter()\n",
    "for movie in movies:\n",
    "    link_counts.update(movie[2])\n",
    "link_counts.most_common(10)"
   ],
   "execution_count":3,
   "outputs":[
    {
     "data":{
      "text\/plain":[
       "[('Rotten Tomatoes', 9393),\n",
       " ('Category:English-language films', 5882),\n",
       " ('Category:American films', 5867),\n",
       " ('Variety (magazine)', 5450),\n",
       " ('Metacritic', 5112),\n",
       " ('Box Office Mojo', 4186),\n",
       " ('The New York Times', 3818),\n",
       " ('The Hollywood Reporter', 3553),\n",
       " ('Roger Ebert', 2707),\n",
       " ('Los Angeles Times', 2454)]"
      ]
     },
     "metadata":{
      
     },
     "output_type":"display_data"
    }
   ],
   "metadata":{
    "datalore":{
     "node_id":"lG0xOs2R8rTlTYKd0XK0xn",
     "type":"CODE",
     "hide_input_from_viewers":true,
     "hide_output_from_viewers":true
    }
   }
  },
  {
   "cell_type":"code",
   "source":[
    "top_links = [link for link,c in link_counts.items() if c>=3]\n",
    "link_to_idx = {link:idx for idx,link in enumerate(top_links)}\n",
    "movie_to_idx = {movie[0]:idx for idx,movie in enumerate(movies)}\n",
    "pairs = []\n",
    "for movie in movies:\n",
    "    pairs.extend((link_to_idx[link],movie_to_idx[movie[0]]) for link in movie[2] if link in link_to_idx)\n",
    "pairs_set = set(pairs)\n",
    "len(pairs), len(top_links), len(movie_to_idx)"
   ],
   "execution_count":4,
   "outputs":[
    {
     "data":{
      "text\/plain":[
       "(949544, 66913, 10000)"
      ]
     },
     "metadata":{
      
     },
     "output_type":"display_data"
    }
   ],
   "metadata":{
    "datalore":{
     "node_id":"H7o4ktPjnsyyYffCaWyP60",
     "type":"CODE",
     "hide_input_from_viewers":true,
     "hide_output_from_viewers":true
    }
   }
  },
  {
   "cell_type":"code",
   "source":[
    "def movie_embedding_model(embedding_size = 50):\n",
    "    link = Input(name='link',shape=(1,))\n",
    "    movie = Input(name='movie',shape=(1,))\n",
    "    link_embedding = Embedding(name='link_embedding',\n",
    "                               input_dim=len(top_links),\n",
    "                               output_dim=embedding_size)(link)\n",
    "    movie_embedding = Embedding(name='movie_embedding',\n",
    "                               input_dim=len(movie_to_idx),\n",
    "                               output_dim=embedding_size)(movie)\n",
    "    dot = Dot(name='dot_product', normalize=True,axes=2)([link_embedding,movie_embedding])\n",
    "    merged = Reshape((1,))(dot)\n",
    "    model = Model(inputs=[link,movie],outputs=[merged])\n",
    "    model.compile(optimizer='adam',loss='mse')\n",
    "    return model\n",
    "\n",
    "model = movie_embedding_model()\n",
    "model.summary()"
   ],
   "execution_count":5,
   "outputs":[
    {
     "name":"stdout",
     "text":[
      "Model: \"model\"\n",
      "__________________________________________________________________________________________________\n",
      " Layer (type)                   Output Shape         Param #     Connected to                     \n",
      "==================================================================================================\n",
      " link (InputLayer)              [(None, 1)]          0           []                               \n",
      "                                                                                                  \n",
      " movie (InputLayer)             [(None, 1)]          0           []                               \n",
      "                                                                                                  \n",
      " link_embedding (Embedding)     (None, 1, 50)        3345650     ['link[0][0]']                   \n",
      "                                                                                                  \n",
      " movie_embedding (Embedding)    (None, 1, 50)        500000      ['movie[0][0]']                  \n",
      "                                                                                                  \n",
      " dot_product (Dot)              (None, 1, 1)         0           ['link_embedding[0][0]',         \n",
      "                                                                  'movie_embedding[0][0]']        \n",
      "                                                                                                  \n",
      " reshape (Reshape)              (None, 1)            0           ['dot_product[0][0]']            \n",
      "                                                                                                  \n",
      "==================================================================================================\n",
      "Total params: 3,845,650\n",
      "Trainable params: 3,845,650\n",
      "Non-trainable params: 0\n",
      "__________________________________________________________________________________________________\n"
     ],
     "output_type":"stream"
    }
   ],
   "metadata":{
    "datalore":{
     "node_id":"YDHy2Pnw41A049cE1p2c0m",
     "type":"CODE",
     "hide_input_from_viewers":true,
     "hide_output_from_viewers":true
    }
   }
  },
  {
   "cell_type":"code",
   "source":[
    "random.seed(5)\n",
    "\n",
    "def batchfier(pairs,positive_samples=50,negative_ratio=10):\n",
    "    batch_size = positive_samples*(1+negative_ratio)\n",
    "    batch = np.zeros((batch_size,3))\n",
    "    while True:\n",
    "        for idx,(link_id,movie_id) in enumerate(random.sample(pairs,positive_samples)):\n",
    "            batch[idx,:] = (link_id,movie_id,1)\n",
    "        idx = positive_samples\n",
    "        while idx<batch_size:\n",
    "            movie_id = random.randrange(len(movie_to_idx))\n",
    "            link_id = random.randrange(len(top_links))\n",
    "            if not (link_id,movie_id) in pairs_set:\n",
    "                batch[idx,:] = (link_id,movie_id,-1)\n",
    "                idx += 1\n",
    "        np.random.shuffle(batch)\n",
    "        yield {'link':batch[:,0],'movie':batch[:,1]},batch[:,2]\n",
    "\n",
    "next(batchfier(pairs,positive_samples=3,negative_ratio=2))\n"
   ],
   "execution_count":6,
   "outputs":[
    {
     "data":{
      "text\/plain":[
       "({'link': array([31254., 32318., 22418., 13365., 48731., 20558.,  3801.,  1313.,\n",
       "         32643.]),\n",
       "  'movie': array([5530., 7685., 1529., 6238., 1854.,  849., 5874., 7236., 7628.])},\n",
       " array([ 1., -1.,  1., -1., -1., -1., -1.,  1., -1.]))"
      ]
     },
     "metadata":{
      
     },
     "output_type":"display_data"
    }
   ],
   "metadata":{
    "datalore":{
     "node_id":"b9il4trdvpn6q1I7CVW0gV",
     "type":"CODE",
     "hide_input_from_viewers":true,
     "hide_output_from_viewers":true
    }
   }
  },
  {
   "cell_type":"code",
   "source":[
    "positive_samples_per_batch = 512\n",
    "model.fit(\n",
    "    batchfier(pairs,positive_samples=positive_samples_per_batch,negative_ratio=10),\n",
    "    epochs=15,\n",
    "    steps_per_epoch=len(pairs),\n",
    "    verbose=2\n",
    ")"
   ],
   "execution_count":8,
   "outputs":[
    {
     "name":"stdout",
     "text":[
      "Epoch 1\/15\n"
     ],
     "output_type":"stream"
    }
   ],
   "metadata":{
    "datalore":{
     "node_id":"vxsaY5isrOVsRxBGtEqvvR",
     "type":"CODE",
     "hide_input_from_viewers":true,
     "hide_output_from_viewers":true
    }
   }
  },
  {
   "cell_type":"code",
   "source":[
    "movie = model.get_layer('movie_embedding')\n",
    "movie_weights = movie.get_weights()[0]\n",
    "movie_lenghts = np.linalg.norm(movie_weights,axis=1)\n",
    "normalized_movies = (movie_weights.T\/movie_lenghts).T\n",
    "\n",
    "def similar_movies(movie):\n",
    "    dists = np.dot(normalized_movies,normalized_movies[movie_lenghts[movie]])\n",
    "    closest = np.argsort(dists)[-10:]\n",
    "    for c in reversed(closest):\n",
    "        print(c,movies[c][0],dists[c])\n",
    "\n",
    "similar_movies('Rouge One')"
   ],
   "execution_count":null,
   "outputs":[
    
   ],
   "metadata":{
    "datalore":{
     "node_id":"o1WlLnKuY4xuKxNFp8zGqj",
     "type":"CODE",
     "hide_input_from_viewers":true,
     "hide_output_from_viewers":true
    }
   }
  }
 ],
 "metadata":{
  "kernelspec":{
   "display_name":"Python",
   "language":"python",
   "name":"python"
  },
  "datalore":{
   "computation_mode":"JUPYTER",
   "package_manager":"pip",
   "base_environment":"default",
   "packages":[
    
   ],
   "report_row_ids":[
    
   ],
   "version":3
  }
 },
 "nbformat":4,
 "nbformat_minor":4
}